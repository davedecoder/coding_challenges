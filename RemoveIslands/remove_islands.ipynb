{
 "cells": [
  {
   "cell_type": "markdown",
   "metadata": {},
   "source": [
    "# Remove Islands Problem\n",
    "\n",
    "Given a Matrix(nxm) conformed by numbers 0s and 1s where 1s are black and 0s white you need to find the island and remove them.\n",
    "\n",
    "The Islands are represented by the numbers 1 that are not conected to any border (see what is a border) i.e. they are surrounded up and down, right and left by 0s islands are not necessary single 1s they can be next to each other whether their neighbour(s) are up or down or right or left side.\n",
    "\n",
    "Borders are the 1s that are connected to any of the 4 edges of the matrix\n",
    "\n",
    "Example:\n",
    "\n",
    "Sample input\n",
    "```\n",
    "1, 0, 0, 0, 0, 0\n",
    "0, 1, 0, 1, 1, 1\n",
    "0, 0, 1, 0, 1, 0\n",
    "1, 1, 0, 0, 1, 0\n",
    "1, 0, 1, 1, 0, 0\n",
    "1, 0, 0, 0, 0, 1\n",
    "```\n",
    "\n",
    "Sample output\n",
    "\n",
    "```\n",
    "1, 0, 0, 0, 0, 0\n",
    "0, 0, 0, 1, 1, 1\n",
    "0, 0, 0, 0, 1, 0\n",
    "1, 1, 0, 0, 1, 0\n",
    "1, 0, 0, 0, 0, 0\n",
    "1, 0, 0, 0, 0, 1\n",
    "```\n",
    "\n",
    "the replaced 1s were:\n",
    "\n",
    "```\n",
    " ,  ,  ,  ,  ,  \n",
    " , 1,  ,  ,  ,  \n",
    " ,  , 1,  ,  ,  \n",
    " ,  ,  ,  ,  ,  \n",
    " ,  , 1, 1,  ,  \n",
    " ,  ,  ,  ,  ,  \n",
    "```\n"
   ]
  },
  {
   "cell_type": "code",
   "execution_count": 177,
   "metadata": {},
   "outputs": [],
   "source": [
    "from typing import List, Dict"
   ]
  },
  {
   "cell_type": "code",
   "execution_count": 2,
   "metadata": {},
   "outputs": [
    {
     "name": "stdout",
     "output_type": "stream",
     "text": [
      "-1 0\n",
      "0 -1\n",
      "1 0\n",
      "0 1\n"
     ]
    }
   ],
   "source": [
    "def next_neighbour(i: int, j: int):\n",
    "        yield i - 1, j\n",
    "        yield i , j - 1\n",
    "        yield i + 1 , j\n",
    "        yield i , j + 1\n",
    "        \n",
    "for i, j in iter(next_neighbour(0, 0)):\n",
    "    print(i, j)"
   ]
  },
  {
   "cell_type": "code",
   "execution_count": 3,
   "metadata": {},
   "outputs": [],
   "source": [
    "def draw_mainland(coords: dict, matrix: List[List[int]]) -> List[List[str]]:\n",
    "    res = []\n",
    "    for i, row in enumerate(matrix):\n",
    "        n_col = []\n",
    "        for j, _ in enumerate(row):\n",
    "            if coords.get(f\"{i},{j}\", False):\n",
    "                n_col.append('X')\n",
    "                continue\n",
    "            n_col.append('')\n",
    "        res.append(n_col)\n",
    "    return res"
   ]
  },
  {
   "cell_type": "code",
   "execution_count": 4,
   "metadata": {},
   "outputs": [
    {
     "data": {
      "text/plain": [
       "'class Solution:\\n    \\n    def __init__(self):\\n        self.mainland = dict()\\n        self.visited = dict()\\n        \\n        \\n    def is_border(self, i: int, j: int, m: List[List[int]]) -> bool:\\n        if i == 0:\\n            return True\\n        if j == 0:\\n            return True\\n        if j == len(m[0]) - 1:\\n            return True\\n        if i == len(m) - 1:\\n            return True\\n        return False\\n    \\n    def is_beyond_border(self, i: int, j: int, m: List[List[int]]) -> bool:\\n        if i == -1:\\n            return True\\n        if j == -1:\\n            return True\\n        if j == len(m[0]):\\n            return True\\n        if i == len(m):\\n            return True\\n        return False\\n    \\n    def is_land(self, i: int, j: int, m: List[List[int]]) -> bool:\\n        return m[i][j] == 1\\n    \\n    def mark_as_mainland(self, i: int, j: int):\\n        self.mainland[f\"{i},{j}\"] = True\\n        \\n    def next_neighbour(self, i: int, j: int):\\n        yield i - 1, j\\n        yield i , j - 1\\n        yield i + 1 , j\\n        yield i , j + 1\\n    \\n    def is_connected(self, i: int, j: int, matrix: List[List[int]]) -> bool:\\n        if self.is_mainland(i, j):\\n            return True\\n        if self.is_border(i, j, matrix) and self.is_land(i, j, matrix):\\n            return True\\n        return False\\n        \\n        \\n    def dfs(self, i: int, j: int, m: List[List[int]]) -> bool:\\n        if self.visited.get(f\"{i},{j}\", False) == True:\\n            return\\n        self.visited[f\"{i},{j}\"] = True\\n        for ii, jj in iter(next_neighbour(i, j)):\\n                \\n            if self.is_beyond_border(ii, jj, m):\\n                continue\\n            if self.visited.get(f\"{ii},{jj}\", False) == True:\\n                continue\\n            if self.is_land(i, j, m) and self.is_connected(ii, jj, m):\\n                self.mark_as_mainland(i, j)\\n                return\\n            else:\\n                self.dfs(ii, jj, m)\\n        return\\n        \\n    \\n    def is_mainland(self, i: int, j: int):\\n        return self.mainland.get(f\"{i},{j}\", False)\\n    \\n    \\n    def remove_islands(self, matrix: List[List[int]]) -> List[List[int]]:\\n        for i, row in enumerate(matrix):\\n            for j, col in enumerate(row):\\n                if self.is_mainland(i, j):\\n                    continue\\n                if self.is_border(i, j, matrix) and self.is_land(i, j, matrix):\\n                    self.mark_as_mainland(i, j)\\n                else:\\n                    self.dfs(i, j, matrix)\\n        return matrix\\n    \\n    def print_matrix(self, matrix: List[List[int]]):\\n        for row in matrix:\\n            print(row)\\n'"
      ]
     },
     "execution_count": 4,
     "metadata": {},
     "output_type": "execute_result"
    }
   ],
   "source": [
    "\"\"\"class Solution:\n",
    "    \n",
    "    def __init__(self):\n",
    "        self.mainland = dict()\n",
    "        self.visited = dict()\n",
    "        \n",
    "        \n",
    "    def is_border(self, i: int, j: int, m: List[List[int]]) -> bool:\n",
    "        if i == 0:\n",
    "            return True\n",
    "        if j == 0:\n",
    "            return True\n",
    "        if j == len(m[0]) - 1:\n",
    "            return True\n",
    "        if i == len(m) - 1:\n",
    "            return True\n",
    "        return False\n",
    "    \n",
    "    def is_beyond_border(self, i: int, j: int, m: List[List[int]]) -> bool:\n",
    "        if i == -1:\n",
    "            return True\n",
    "        if j == -1:\n",
    "            return True\n",
    "        if j == len(m[0]):\n",
    "            return True\n",
    "        if i == len(m):\n",
    "            return True\n",
    "        return False\n",
    "    \n",
    "    def is_land(self, i: int, j: int, m: List[List[int]]) -> bool:\n",
    "        return m[i][j] == 1\n",
    "    \n",
    "    def mark_as_mainland(self, i: int, j: int):\n",
    "        self.mainland[f\"{i},{j}\"] = True\n",
    "        \n",
    "    def next_neighbour(self, i: int, j: int):\n",
    "        yield i - 1, j\n",
    "        yield i , j - 1\n",
    "        yield i + 1 , j\n",
    "        yield i , j + 1\n",
    "    \n",
    "    def is_connected(self, i: int, j: int, matrix: List[List[int]]) -> bool:\n",
    "        if self.is_mainland(i, j):\n",
    "            return True\n",
    "        if self.is_border(i, j, matrix) and self.is_land(i, j, matrix):\n",
    "            return True\n",
    "        return False\n",
    "        \n",
    "        \n",
    "    def dfs(self, i: int, j: int, m: List[List[int]]) -> bool:\n",
    "        if self.visited.get(f\"{i},{j}\", False) == True:\n",
    "            return\n",
    "        self.visited[f\"{i},{j}\"] = True\n",
    "        for ii, jj in iter(next_neighbour(i, j)):\n",
    "                \n",
    "            if self.is_beyond_border(ii, jj, m):\n",
    "                continue\n",
    "            if self.visited.get(f\"{ii},{jj}\", False) == True:\n",
    "                continue\n",
    "            if self.is_land(i, j, m) and self.is_connected(ii, jj, m):\n",
    "                self.mark_as_mainland(i, j)\n",
    "                return\n",
    "            else:\n",
    "                self.dfs(ii, jj, m)\n",
    "        return\n",
    "        \n",
    "    \n",
    "    def is_mainland(self, i: int, j: int):\n",
    "        return self.mainland.get(f\"{i},{j}\", False)\n",
    "    \n",
    "    \n",
    "    def remove_islands(self, matrix: List[List[int]]) -> List[List[int]]:\n",
    "        for i, row in enumerate(matrix):\n",
    "            for j, col in enumerate(row):\n",
    "                if self.is_mainland(i, j):\n",
    "                    continue\n",
    "                if self.is_border(i, j, matrix) and self.is_land(i, j, matrix):\n",
    "                    self.mark_as_mainland(i, j)\n",
    "                else:\n",
    "                    self.dfs(i, j, matrix)\n",
    "        return matrix\n",
    "    \n",
    "    def print_matrix(self, matrix: List[List[int]]):\n",
    "        for row in matrix:\n",
    "            print(row)\n",
    "\"\"\""
   ]
  },
  {
   "cell_type": "code",
   "execution_count": 43,
   "metadata": {},
   "outputs": [],
   "source": [
    "def print_matrix(matrix):\n",
    "    for row in matrix:\n",
    "        print(row)"
   ]
  },
  {
   "cell_type": "code",
   "execution_count": 220,
   "metadata": {},
   "outputs": [],
   "source": [
    "class Solution:\n",
    "    \n",
    "    def __init__(self, matrix: List[List[int]]):\n",
    "        self.mainland = dict()\n",
    "        self.visited = dict()\n",
    "        self.matrix = matrix\n",
    "        \n",
    "        \n",
    "    def is_border(self, i: int, j: int) -> bool:\n",
    "        if i == 0:\n",
    "            return True\n",
    "        if j == 0:\n",
    "            return True\n",
    "        if j == len(self.matrix[0]) - 1:\n",
    "            return True\n",
    "        if i == len(self.matrix) - 1:\n",
    "            return True\n",
    "        return False\n",
    "    \n",
    "    def is_beyond_border(self, i: int, j: int) -> bool:\n",
    "        if i == -1:\n",
    "            return True\n",
    "        if j == -1:\n",
    "            return True\n",
    "        if j == len(self.matrix[0]):\n",
    "            return True\n",
    "        if i == len(self.matrix):\n",
    "            return True\n",
    "        return False\n",
    "    \n",
    "    def is_land(self, i: int, j: int) -> bool:\n",
    "        return self.matrix[i][j] == 1\n",
    "    \n",
    "    def mark_as_mainland(self, i: int, j: int):\n",
    "        self.mainland[f\"{i},{j}\"] = True\n",
    "        \n",
    "    def next_neighbour(self, i: int, j: int):\n",
    "        yield i - 1, j\n",
    "        yield i , j - 1\n",
    "        yield i + 1 , j\n",
    "        yield i , j + 1\n",
    "    \n",
    "    def is_connected(self, i: int, j: int) -> bool:\n",
    "        if self.is_mainland(i, j):\n",
    "            return True\n",
    "        if self.is_border(i, j) and self.is_land(i, j):\n",
    "            return True\n",
    "        return False\n",
    "        \n",
    "        \n",
    "    def dfs(self, i: int, j: int, land: Dict) -> bool:\n",
    "        if land.get(f\"{i},{j}\", False) == True:\n",
    "            return False\n",
    "        if not self.is_land(i, j):\n",
    "            return False\n",
    "        if self.is_beyond_border(i, j):\n",
    "            return False\n",
    "        if self.is_mainland(i, j):\n",
    "            return True\n",
    "        if self.is_border(i, j):\n",
    "            land[f\"{i},{j}\"] = True\n",
    "            return True\n",
    "        if self.is_land(i, j):\n",
    "            land[f\"{i},{j}\"] = True            \n",
    "            for ii, jj in iter(next_neighbour(i, j)):\n",
    "                if self.dfs(ii, jj, land):\n",
    "                    return True\n",
    "        return False\n",
    "        \n",
    "    \n",
    "    def is_mainland(self, i: int, j: int) -> bool:\n",
    "        return self.mainland.get(f\"{i},{j}\", False)\n",
    "    \n",
    "    \n",
    "    def remove_islands(self):\n",
    "        for i, row in enumerate(self.matrix):\n",
    "            for j, col in enumerate(row):\n",
    "                land_found = {}\n",
    "                if self.dfs(i, j, land_found):\n",
    "                    self.mainland.update(land_found)\n",
    "    \n",
    "    def isolate_islands(self) -> List[List[str]]:\n",
    "        isolated_island = list()\n",
    "        for i, row in enumerate(self.matrix):\n",
    "            n_row = []\n",
    "            for j, col in enumerate(row):\n",
    "                if not self.is_mainland(i, j) and self.is_land(i, j):\n",
    "                    n_row.append(1)\n",
    "                else:\n",
    "                    n_row.append('')\n",
    "            isolated_island.append(n_row)\n",
    "        return isolated_island\n",
    "    \n",
    "    def print_matrix(self):\n",
    "        for row in self.matrix:\n",
    "            print(row)"
   ]
  },
  {
   "cell_type": "code",
   "execution_count": 221,
   "metadata": {},
   "outputs": [
    {
     "name": "stdout",
     "output_type": "stream",
     "text": [
      "[1, 0, 0, 1]\n",
      "[0, 1, 0, 1]\n",
      "[1, 0, 1, 1]\n",
      "[1, 1, 0, 0]\n"
     ]
    }
   ],
   "source": [
    "sample_input = [\n",
    "    [1, 0, 0, 1],\n",
    "    [0, 1, 0, 1],\n",
    "    [1, 0, 1, 1],\n",
    "    [1, 1, 0, 0]\n",
    "]\n",
    "\n",
    "s = Solution(sample_input)\n",
    "r = s.remove_islands()\n",
    "s.print_matrix()\n",
    "#assert r == sample_output"
   ]
  },
  {
   "cell_type": "code",
   "execution_count": 222,
   "metadata": {},
   "outputs": [],
   "source": [
    "res = draw_mainland(s.mainland, sample_input)"
   ]
  },
  {
   "cell_type": "code",
   "execution_count": 223,
   "metadata": {},
   "outputs": [
    {
     "name": "stdout",
     "output_type": "stream",
     "text": [
      "['X', '', '', 'X']\n",
      "['', '', '', 'X']\n",
      "['X', '', 'X', 'X']\n",
      "['X', 'X', '', '']\n"
     ]
    }
   ],
   "source": [
    "print_matrix(res)"
   ]
  },
  {
   "cell_type": "code",
   "execution_count": 224,
   "metadata": {},
   "outputs": [
    {
     "name": "stdout",
     "output_type": "stream",
     "text": [
      "['', '', '', '']\n",
      "['', 1, '', '']\n",
      "['', '', '', '']\n",
      "['', '', '', '']\n"
     ]
    }
   ],
   "source": [
    "print_matrix(s.isolate_islands())"
   ]
  },
  {
   "cell_type": "code",
   "execution_count": 225,
   "metadata": {},
   "outputs": [
    {
     "name": "stdout",
     "output_type": "stream",
     "text": [
      "[1, 0, 0, 0, 0, 0]\n",
      "[0, 1, 0, 1, 1, 1]\n",
      "[0, 0, 1, 0, 1, 0]\n",
      "[1, 1, 0, 0, 1, 0]\n",
      "[1, 0, 1, 1, 0, 0]\n",
      "[1, 0, 0, 0, 0, 1]\n"
     ]
    }
   ],
   "source": [
    "sample_input = [\n",
    "    [1, 0, 0, 0, 0, 0],\n",
    "    [0, 1, 0, 1, 1, 1],\n",
    "    [0, 0, 1, 0, 1, 0],\n",
    "    [1, 1, 0, 0, 1, 0],\n",
    "    [1, 0, 1, 1, 0, 0],\n",
    "    [1, 0, 0, 0, 0, 1]\n",
    "]\n",
    "\n",
    "s = Solution(sample_input)\n",
    "r = s.remove_islands()\n",
    "s.print_matrix()"
   ]
  },
  {
   "cell_type": "code",
   "execution_count": 226,
   "metadata": {},
   "outputs": [],
   "source": [
    "res = draw_mainland(s.mainland, sample_input)"
   ]
  },
  {
   "cell_type": "code",
   "execution_count": 227,
   "metadata": {},
   "outputs": [
    {
     "name": "stdout",
     "output_type": "stream",
     "text": [
      "['X', '', '', '', '', '']\n",
      "['', '', '', 'X', 'X', 'X']\n",
      "['', '', '', '', 'X', '']\n",
      "['X', 'X', '', '', 'X', '']\n",
      "['X', '', '', '', '', '']\n",
      "['X', '', '', '', '', 'X']\n"
     ]
    }
   ],
   "source": [
    "print_matrix(res)"
   ]
  },
  {
   "cell_type": "code",
   "execution_count": 228,
   "metadata": {},
   "outputs": [
    {
     "name": "stdout",
     "output_type": "stream",
     "text": [
      "['', '', '', '', '', '']\n",
      "['', 1, '', '', '', '']\n",
      "['', '', 1, '', '', '']\n",
      "['', '', '', '', '', '']\n",
      "['', '', 1, 1, '', '']\n",
      "['', '', '', '', '', '']\n"
     ]
    }
   ],
   "source": [
    "print_matrix(s.isolate_islands())"
   ]
  },
  {
   "cell_type": "code",
   "execution_count": null,
   "metadata": {},
   "outputs": [],
   "source": [
    "sample_input = [\n",
    "    [1, 0, 0, 0],\n",
    "    [1, 0, 1, 1],\n",
    "    [1, 0, 0, 1],\n",
    "    [1, 1, 0, 1]\n",
    "]\n",
    "\n",
    "sample_output = [\n",
    "    [2, 0, 0, 0],\n",
    "    [2, 0, 1, 2],\n",
    "    [2, 0, 0, 2],\n",
    "    [2, 2, 0, 2]\n",
    "]\n",
    "\n",
    "s = Solution()\n",
    "r = s.remove_islands(sample_input)\n",
    "s.print_matrix(sample_input)\n",
    "#assert r == sample_output"
   ]
  },
  {
   "cell_type": "code",
   "execution_count": null,
   "metadata": {},
   "outputs": [],
   "source": [
    "res = draw_mainland(s.mainland, sample_input)\n",
    "s.print_matrix(res)"
   ]
  },
  {
   "cell_type": "code",
   "execution_count": null,
   "metadata": {},
   "outputs": [],
   "source": [
    "sample_output = [\n",
    "    [1, 0, 0, 0, 0, 0],\n",
    "    [0, 1, 0, 1, 1, 1],\n",
    "    [0, 0, 1, 0, 1, 0],\n",
    "    [1, 1, 0, 0, 1, 0],\n",
    "    [1, 0, 1, 1, 0, 0],\n",
    "    [1, 0, 0, 0, 0, 1]\n",
    "]\n",
    "\n",
    "s = Solution()\n",
    "r = s.remove_islands(sample_output)\n",
    "assert r == sample_output"
   ]
  },
  {
   "cell_type": "code",
   "execution_count": null,
   "metadata": {},
   "outputs": [],
   "source": []
  }
 ],
 "metadata": {
  "kernelspec": {
   "display_name": "Python 3",
   "language": "python",
   "name": "python3"
  },
  "language_info": {
   "codemirror_mode": {
    "name": "ipython",
    "version": 3
   },
   "file_extension": ".py",
   "mimetype": "text/x-python",
   "name": "python",
   "nbconvert_exporter": "python",
   "pygments_lexer": "ipython3",
   "version": "3.9.1"
  }
 },
 "nbformat": 4,
 "nbformat_minor": 4
}
