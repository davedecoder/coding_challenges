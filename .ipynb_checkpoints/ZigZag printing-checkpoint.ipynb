{
 "cells": [
  {
   "cell_type": "code",
   "execution_count": 30,
   "metadata": {},
   "outputs": [],
   "source": [
    "def convert(s: int, numRows: int):\n",
    "        matrix = [[0 for x in range((s + 1)//2)] for y in range(numRows)]\n",
    "        x = y = pointer = 0\n",
    "        while pointer < s:\n",
    "            print(\"H\")\n",
    "            for y in range(numRows):\n",
    "                print(y,x)\n",
    "                matrix[y][x] = 1\n",
    "                pointer += 1\n",
    "            x += 1\n",
    "            for y in reversed(range(1, numRows - 1)):\n",
    "                print(y,x)\n",
    "                matrix[y][x] = 1\n",
    "                x += 1\n",
    "                pointer += 1\n",
    "        print(matrix)"
   ]
  },
  {
   "cell_type": "code",
   "execution_count": 31,
   "metadata": {},
   "outputs": [
    {
     "name": "stdout",
     "output_type": "stream",
     "text": [
      "H\n",
      "0 0\n",
      "1 0\n",
      "2 0\n",
      "1 1\n",
      "H\n",
      "0 1\n",
      "1 1\n",
      "2 1\n",
      "1 2\n",
      "H\n",
      "0 2\n",
      "1 2\n",
      "2 2\n",
      "1 3\n",
      "H\n",
      "0 3\n",
      "1 3\n",
      "2 3\n",
      "1 4\n",
      "[[1, 1, 1, 1, 0, 0, 0], [1, 1, 1, 1, 1, 0, 0], [1, 1, 1, 1, 0, 0, 0]]\n"
     ]
    }
   ],
   "source": [
    "my_string = \"PAYPALISHIRING\"\n",
    "rows = 3\n",
    "convert(14, 3)\n",
    "#print(len(r), len(r), r)"
   ]
  },
  {
   "cell_type": "code",
   "execution_count": 20,
   "metadata": {},
   "outputs": [
    {
     "name": "stdout",
     "output_type": "stream",
     "text": [
      "3\n",
      "2\n",
      "1\n",
      "0\n"
     ]
    }
   ],
   "source": [
    "for i in reversed(range(4)):\n",
    "    print(i)"
   ]
  },
  {
   "cell_type": "code",
   "execution_count": 20,
   "metadata": {},
   "outputs": [
    {
     "name": "stdout",
     "output_type": "stream",
     "text": [
      "2\n",
      "1\n"
     ]
    }
   ],
   "source": [
    "s = 3\n",
    "for y in reversed(range(1, s)):\n",
    "    print(y)"
   ]
  },
  {
   "cell_type": "code",
   "execution_count": null,
   "metadata": {},
   "outputs": [],
   "source": []
  }
 ],
 "metadata": {
  "kernelspec": {
   "display_name": "Python 3",
   "language": "python",
   "name": "python3"
  },
  "language_info": {
   "codemirror_mode": {
    "name": "ipython",
    "version": 3
   },
   "file_extension": ".py",
   "mimetype": "text/x-python",
   "name": "python",
   "nbconvert_exporter": "python",
   "pygments_lexer": "ipython3",
   "version": "3.6.9"
  }
 },
 "nbformat": 4,
 "nbformat_minor": 2
}
