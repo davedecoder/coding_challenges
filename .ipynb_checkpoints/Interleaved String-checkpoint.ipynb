{
 "cells": [
  {
   "cell_type": "markdown",
   "metadata": {},
   "source": [
    "\n",
    "# Interleaved String\n",
    "\n",
    "This problem can be found in leetcode\n",
    "\n",
    "### Description\n",
    "\n",
    "Given s1, s2, s3, find whether s3 is formed by the interleaving of s1 and s2.\n",
    "\n",
    "#### Example 1\n",
    "\n",
    "\n",
    "```Python\n",
    "# Input: \n",
    "s1 = \"aabcc\", s2 = \"dbbca\", s3 = \"aadbbcbcac\"\n",
    "# Output: \n",
    "True\n",
    "```\n",
    "\n",
    "#### Example 2\n",
    "```Python\n",
    "# Input:\n",
    "s1 = \"aabcc\", s2 = \"dbbca\", s3 = \"aadbbbaccc\"\n",
    "# Output: \n",
    "False\n",
    "```\n",
    "\n",
    "https://leetcode.com/problems/interleaving-string/"
   ]
  },
  {
   "cell_type": "markdown",
   "metadata": {},
   "source": [
    "#### Dynamic Programming Solution: "
   ]
  },
  {
   "cell_type": "code",
   "execution_count": 29,
   "metadata": {},
   "outputs": [],
   "source": [
    "class Solution:\n",
    "    def isInterleave(self, s1: str, s2: str, s3: str) -> bool:\n",
    "        mm = [[None for x in range(len(s1) + 1)] for y in range(len(s2) + 1)]\n",
    "        p = -1\n",
    "        j = 0\n",
    "        res = ['' for x in range(len(s3))]\n",
    "        while True:\n",
    "            for i in range(len(s1) + 1):\n",
    "                if p < 0:\n",
    "                    match = True\n",
    "                elif s2[j - 1] == s3[p] or s1[i - 1] == s3[p]:\n",
    "                    match = True\n",
    "                    if i > 0 and mm[j][i - 1] == True:\n",
    "                        match = True\n",
    "                        res[p] = s3[p]\n",
    "                    elif j > 0 and mm[j - 1][i] == True:\n",
    "                        match = True\n",
    "                        res[p] = s3[p]\n",
    "                    else:\n",
    "                        False\n",
    "                else:\n",
    "                    match = False\n",
    "                mm[j][i] = match\n",
    "                p += 1\n",
    "            if p == len(s3):\n",
    "                break\n",
    "            p = p - len(s1)\n",
    "            j += 1\n",
    "        str_res = ''.join(res)\n",
    "        return str_res == s3"
   ]
  },
  {
   "cell_type": "code",
   "execution_count": 32,
   "metadata": {},
   "outputs": [
    {
     "name": "stdout",
     "output_type": "stream",
     "text": [
      "False\n"
     ]
    }
   ],
   "source": [
    "s1 = \"aabcc\" \n",
    "s2 = \"dbbca\" \n",
    "s3 = \"aabdcbcacb\"\n",
    "s = Solution()\n",
    "print(s.isInterleave(s1, s2, s3))"
   ]
  },
  {
   "cell_type": "code",
   "execution_count": 16,
   "metadata": {},
   "outputs": [
    {
     "name": "stdout",
     "output_type": "stream",
     "text": [
      "0 a\n",
      "1 b\n",
      "2 c\n"
     ]
    }
   ],
   "source": [
    "aa = \"abc\"\n",
    "a = \"abcdef\"\n",
    "for i in range(len(aa)):\n",
    "    print(i, a[i])"
   ]
  },
  {
   "cell_type": "code",
   "execution_count": null,
   "metadata": {},
   "outputs": [],
   "source": []
  }
 ],
 "metadata": {
  "kernelspec": {
   "display_name": "Python 3",
   "language": "python",
   "name": "python3"
  },
  "language_info": {
   "codemirror_mode": {
    "name": "ipython",
    "version": 3
   },
   "file_extension": ".py",
   "mimetype": "text/x-python",
   "name": "python",
   "nbconvert_exporter": "python",
   "pygments_lexer": "ipython3",
   "version": "3.6.9"
  }
 },
 "nbformat": 4,
 "nbformat_minor": 2
}
