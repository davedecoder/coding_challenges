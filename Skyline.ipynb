{
 "cells": [
  {
   "cell_type": "code",
   "execution_count": 4,
   "metadata": {},
   "outputs": [],
   "source": [
    "from collections import namedtuple\n",
    "from collections import defaultdict\n",
    "from typing import List, Dict\n",
    "import heapq"
   ]
  },
  {
   "cell_type": "code",
   "execution_count": 5,
   "metadata": {},
   "outputs": [],
   "source": [
    "\n",
    "\n",
    "# NamedTuples make code more readable.\n",
    "Point = namedtuple('point',['x', 'y'])\n",
    "Building = namedtuple(\"building\",['left','right','height'])\n",
    "# heap entry, height is negative\n",
    "Rooftop = namedtuple('rooftop',['height','rightEnd'])\n",
    "\n",
    "class Solution: \n",
    "    def getSkyline(self, buildings: List[List[int]]) -> List[List[int]]:\n",
    "        # Named tuple conversion.\n",
    "        buildings = [Building(*b) for b in buildings]\n",
    "        \n",
    "        # Build a list of transition points where a building either begins or ends.\n",
    "        transitions: List[int] = [ b.left for b in buildings ] + [b.right for b in buildings]\n",
    "        # Deduplicate and sort.\n",
    "        transitions = sorted(list(set(transitions)))\n",
    "                \n",
    "        # left -> building\n",
    "        buildDict: Dict[int, Building] = defaultdict(set)\n",
    "        for b in buildings:\n",
    "            buildDict[b.left] |= {b}\n",
    "        \n",
    "        roofHeap: List[Rooftop] = []\n",
    "        out: List[Point] = []\n",
    "        lastHeight: int = 0\n",
    "        \n",
    "        # Iterate through building transition points.\n",
    "        for x in transitions:\n",
    "            # Add new rooftops that start at this transition point.\n",
    "            for b in buildDict[x]:\n",
    "                # heapq only supports minheap, so use negative height for maxheap.\n",
    "                rooftop = Rooftop(-b.height, b.right)\n",
    "                heapq.heappush(roofHeap, rooftop)\n",
    "            \n",
    "            # Remove rooftop at root of heap if the rooftop's right end is before the current transition point.\n",
    "            while roofHeap and roofHeap[0].rightEnd <= x:\n",
    "                throwaway = heapq.heappop(roofHeap)\n",
    "            \n",
    "            # Add a point if the heaproot height is different from previous height.\n",
    "            maxHeight = 0\n",
    "            if roofHeap:\n",
    "                # Negate to extract max from minheap.\n",
    "                maxHeight = -roofHeap[0].height\n",
    "            if maxHeight != lastHeight:\n",
    "                lastHeight = maxHeight\n",
    "                p = Point(x, maxHeight)\n",
    "                out.append(p)\n",
    "                \n",
    "        return out"
   ]
  },
  {
   "cell_type": "code",
   "execution_count": 18,
   "metadata": {},
   "outputs": [],
   "source": [
    "buildings = [[2,9,10],[3,7,15],[5,12,12],[15,20,10],[19,24,8],[19,25,10]]"
   ]
  },
  {
   "cell_type": "code",
   "execution_count": 19,
   "metadata": {},
   "outputs": [],
   "source": [
    "# Named tuple conversion.\n",
    "buildings = [Building(*b) for b in buildings]\n",
    "\n",
    "# Build a list of transition points where a building either begins or ends.\n",
    "transitions: List[int] = [ b.left for b in buildings ] + [b.right for b in buildings]"
   ]
  },
  {
   "cell_type": "code",
   "execution_count": 20,
   "metadata": {
    "scrolled": true
   },
   "outputs": [],
   "source": [
    "# Deduplicate and sort.\n",
    "transitions = sorted(list(set(transitions)))"
   ]
  },
  {
   "cell_type": "code",
   "execution_count": 21,
   "metadata": {},
   "outputs": [],
   "source": [
    "# left -> building\n",
    "buildDict: Dict[int, Building] = defaultdict(set)\n",
    "for b in buildings:\n",
    "    buildDict[b.left] |= {b}"
   ]
  },
  {
   "cell_type": "code",
   "execution_count": 23,
   "metadata": {},
   "outputs": [],
   "source": [
    "roofHeap: List[Rooftop] = []\n",
    "out: List[Point] = []\n",
    "lastHeight: int = 0"
   ]
  },
  {
   "cell_type": "code",
   "execution_count": null,
   "metadata": {},
   "outputs": [],
   "source": [
    "# Iterate through building transition points.\n",
    "for x in transitions:\n",
    "    # Add new rooftops that start at this transition point.\n",
    "    for b in buildDict[x]:\n",
    "        # heapq only supports minheap, so use negative height for maxheap.\n",
    "        rooftop = Rooftop(-b.height, b.right)\n",
    "        heapq.heappush(roofHeap, rooftop)\n",
    "\n",
    "    # Remove rooftop at root of heap if the rooftop's right end is before the current transition point.\n",
    "    while roofHeap and roofHeap[0].rightEnd <= x:\n",
    "        throwaway = heapq.heappop(roofHeap)\n",
    "\n",
    "    # Add a point if the heaproot height is different from previous height.\n",
    "    maxHeight = 0\n",
    "    if roofHeap:\n",
    "        # Negate to extract max from minheap.\n",
    "        maxHeight = -roofHeap[0].height\n",
    "    if maxHeight != lastHeight:\n",
    "        lastHeight = maxHeight\n",
    "        p = Point(x, maxHeight)\n",
    "        out.append(p)\n",
    "\n",
    "        print(out)"
   ]
  },
  {
   "cell_type": "code",
   "execution_count": null,
   "metadata": {},
   "outputs": [],
   "source": []
  },
  {
   "cell_type": "code",
   "execution_count": null,
   "metadata": {},
   "outputs": [],
   "source": []
  },
  {
   "cell_type": "code",
   "execution_count": null,
   "metadata": {},
   "outputs": [],
   "source": []
  },
  {
   "cell_type": "code",
   "execution_count": 9,
   "metadata": {},
   "outputs": [
    {
     "name": "stdout",
     "output_type": "stream",
     "text": [
      "[point(x=2, y=10), point(x=3, y=15), point(x=7, y=12), point(x=12, y=0), point(x=15, y=10), point(x=20, y=8), point(x=24, y=0)]\n"
     ]
    },
    {
     "ename": "AssertionError",
     "evalue": "",
     "output_type": "error",
     "traceback": [
      "\u001b[0;31m---------------------------------------------------------------------------\u001b[0m",
      "\u001b[0;31mAssertionError\u001b[0m                            Traceback (most recent call last)",
      "\u001b[0;32m<ipython-input-9-726b0ed51ebb>\u001b[0m in \u001b[0;36m<module>\u001b[0;34m\u001b[0m\n\u001b[1;32m      4\u001b[0m \u001b[0mexpected\u001b[0m \u001b[0;34m=\u001b[0m \u001b[0;34m[\u001b[0m\u001b[0;34m[\u001b[0m\u001b[0;36m2\u001b[0m\u001b[0;34m,\u001b[0m\u001b[0;36m10\u001b[0m\u001b[0;34m]\u001b[0m\u001b[0;34m,\u001b[0m\u001b[0;34m[\u001b[0m\u001b[0;36m3\u001b[0m\u001b[0;34m,\u001b[0m\u001b[0;36m15\u001b[0m\u001b[0;34m]\u001b[0m\u001b[0;34m,\u001b[0m\u001b[0;34m[\u001b[0m\u001b[0;36m7\u001b[0m\u001b[0;34m,\u001b[0m\u001b[0;36m12\u001b[0m\u001b[0;34m]\u001b[0m\u001b[0;34m,\u001b[0m\u001b[0;34m[\u001b[0m\u001b[0;36m12\u001b[0m\u001b[0;34m,\u001b[0m\u001b[0;36m0\u001b[0m\u001b[0;34m]\u001b[0m\u001b[0;34m,\u001b[0m\u001b[0;34m[\u001b[0m\u001b[0;36m15\u001b[0m\u001b[0;34m,\u001b[0m\u001b[0;36m10\u001b[0m\u001b[0;34m]\u001b[0m\u001b[0;34m,\u001b[0m\u001b[0;34m[\u001b[0m\u001b[0;36m20\u001b[0m\u001b[0;34m,\u001b[0m\u001b[0;36m8\u001b[0m\u001b[0;34m]\u001b[0m\u001b[0;34m,\u001b[0m\u001b[0;34m[\u001b[0m\u001b[0;36m24\u001b[0m\u001b[0;34m,\u001b[0m\u001b[0;36m0\u001b[0m\u001b[0;34m]\u001b[0m\u001b[0;34m]\u001b[0m\u001b[0;34m\u001b[0m\u001b[0;34m\u001b[0m\u001b[0m\n\u001b[1;32m      5\u001b[0m \u001b[0mprint\u001b[0m\u001b[0;34m(\u001b[0m\u001b[0mres\u001b[0m\u001b[0;34m)\u001b[0m\u001b[0;34m\u001b[0m\u001b[0;34m\u001b[0m\u001b[0m\n\u001b[0;32m----> 6\u001b[0;31m \u001b[0;32massert\u001b[0m \u001b[0mres\u001b[0m \u001b[0;34m==\u001b[0m \u001b[0mexpected\u001b[0m\u001b[0;34m\u001b[0m\u001b[0;34m\u001b[0m\u001b[0m\n\u001b[0m",
      "\u001b[0;31mAssertionError\u001b[0m: "
     ]
    }
   ],
   "source": [
    "buildings = [[2,9,10],[3,7,15],[5,12,12],[15,20,10],[19,24,8]]\n",
    "s =  Solution()\n",
    "res = s.getSkyline(buildings)\n",
    "expected = [[2,10],[3,15],[7,12],[12,0],[15,10],[20,8],[24,0]]\n",
    "print(res)\n",
    "assert res == expected"
   ]
  },
  {
   "cell_type": "code",
   "execution_count": null,
   "metadata": {},
   "outputs": [],
   "source": []
  }
 ],
 "metadata": {
  "kernelspec": {
   "display_name": "Python 3",
   "language": "python",
   "name": "python3"
  },
  "language_info": {
   "codemirror_mode": {
    "name": "ipython",
    "version": 3
   },
   "file_extension": ".py",
   "mimetype": "text/x-python",
   "name": "python",
   "nbconvert_exporter": "python",
   "pygments_lexer": "ipython3",
   "version": "3.9.1"
  }
 },
 "nbformat": 4,
 "nbformat_minor": 4
}
