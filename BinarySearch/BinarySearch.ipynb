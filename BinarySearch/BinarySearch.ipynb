{
 "cells": [
  {
   "cell_type": "code",
   "execution_count": 1,
   "metadata": {},
   "outputs": [],
   "source": [
    "from typing import List"
   ]
  },
  {
   "cell_type": "code",
   "execution_count": 2,
   "metadata": {},
   "outputs": [],
   "source": [
    "num_list = [i for i in range(0,102)] "
   ]
  },
  {
   "cell_type": "code",
   "execution_count": 3,
   "metadata": {},
   "outputs": [],
   "source": [
    "# Using a loop\n",
    "def binary_search(items:List, item: int) -> int:\n",
    "    \"Get the position of item in the given items list\"\n",
    "    low = 0\n",
    "    high = len(items) - 1\n",
    "    while low <= high:\n",
    "        mid = (low + high) // 2\n",
    "        print(mid)\n",
    "        guess = items[mid]\n",
    "        if item == mid:\n",
    "            return mid\n",
    "        if guess > item:\n",
    "            high = mid - 1\n",
    "        else:\n",
    "            low = mid + 1\n",
    "    return -1"
   ]
  },
  {
   "cell_type": "code",
   "execution_count": 4,
   "metadata": {},
   "outputs": [
    {
     "name": "stdout",
     "output_type": "stream",
     "text": [
      "50\n",
      "24\n",
      "11\n",
      "5\n",
      "2\n",
      "0\n",
      "0 0\n"
     ]
    }
   ],
   "source": [
    "item = num_list[0]\n",
    "position = binary_search(num_list, item)\n",
    "print(item, position)\n",
    "assert item == num_list[position]"
   ]
  },
  {
   "cell_type": "code",
   "execution_count": 5,
   "metadata": {},
   "outputs": [
    {
     "name": "stdout",
     "output_type": "stream",
     "text": [
      "50\n",
      "50 50\n"
     ]
    }
   ],
   "source": [
    "item = num_list[50]\n",
    "position = binary_search(num_list, item)\n",
    "print(item, position)\n",
    "assert item == num_list[position]"
   ]
  },
  {
   "cell_type": "code",
   "execution_count": 6,
   "metadata": {},
   "outputs": [
    {
     "name": "stdout",
     "output_type": "stream",
     "text": [
      "50\n",
      "76\n",
      "89\n",
      "95\n",
      "98\n",
      "100\n",
      "101\n",
      "101 101\n"
     ]
    }
   ],
   "source": [
    "item = num_list[101]\n",
    "position = binary_search(num_list, item)\n",
    "print(item, position)\n",
    "assert item == num_list[position]"
   ]
  },
  {
   "cell_type": "code",
   "execution_count": 7,
   "metadata": {},
   "outputs": [
    {
     "name": "stdout",
     "output_type": "stream",
     "text": [
      "50\n",
      "76\n",
      "89\n",
      "82\n",
      "79\n",
      "77\n",
      "77 77\n"
     ]
    }
   ],
   "source": [
    "item = num_list[77]\n",
    "position = binary_search(num_list, item)\n",
    "print(item, position)\n",
    "assert item == num_list[position]"
   ]
  },
  {
   "cell_type": "code",
   "execution_count": null,
   "metadata": {},
   "outputs": [],
   "source": []
  }
 ],
 "metadata": {
  "kernelspec": {
   "display_name": "Python 3",
   "language": "python",
   "name": "python3"
  },
  "language_info": {
   "codemirror_mode": {
    "name": "ipython",
    "version": 3
   },
   "file_extension": ".py",
   "mimetype": "text/x-python",
   "name": "python",
   "nbconvert_exporter": "python",
   "pygments_lexer": "ipython3",
   "version": "3.9.1"
  }
 },
 "nbformat": 4,
 "nbformat_minor": 4
}
