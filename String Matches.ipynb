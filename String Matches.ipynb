{
 "cells": [
  {
   "cell_type": "code",
   "execution_count": 1,
   "metadata": {},
   "outputs": [],
   "source": [
    "a = [[1]] + [[2,3]]"
   ]
  },
  {
   "cell_type": "code",
   "execution_count": 2,
   "metadata": {},
   "outputs": [
    {
     "data": {
      "text/plain": [
       "[[1], [2, 3]]"
      ]
     },
     "execution_count": 2,
     "metadata": {},
     "output_type": "execute_result"
    }
   ],
   "source": [
    "a"
   ]
  },
  {
   "cell_type": "code",
   "execution_count": 1,
   "metadata": {},
   "outputs": [
    {
     "data": {
      "text/plain": [
       "['is', 'is', 'is']"
      ]
     },
     "execution_count": 1,
     "metadata": {},
     "output_type": "execute_result"
    }
   ],
   "source": [
    "import re\n",
    "s = \"This is a Stisgs\"\n",
    "words = re.findall('is', s)\n",
    "words"
   ]
  },
  {
   "cell_type": "code",
   "execution_count": 39,
   "metadata": {},
   "outputs": [],
   "source": [
    "numToys = 6\n",
    "topToys = 2\n",
    "toys = [\"car\", \"bike\", \"wheel\", \"yoyo\", \"doll\", \"Ball\"]\n",
    "quotes=[\"basket ball is too much funier than bike\", \"doll and doll a beis ball\", \"I love bike and \"]\n",
    "numQuotes = 3"
   ]
  },
  {
   "cell_type": "code",
   "execution_count": 40,
   "metadata": {},
   "outputs": [],
   "source": [
    "import re\n",
    "from collections import OrderedDict\n",
    "\n",
    "def popularNToys(numToys, topToys, toys, \n",
    "                    numQuotes, quotes):\n",
    "    # WRITE YOUR CODE HERE\n",
    "    w_matches = OrderedDict()\n",
    "    for toy in toys:\n",
    "        for quote in quotes:\n",
    "            n_toy = toy.lower()\n",
    "            n_quote = quote.lower()\n",
    "            matches = re.findall(n_toy, n_quote)\n",
    "            if n_toy not in w_matches:\n",
    "                w_matches[n_toy] = len(matches)\n",
    "            else:\n",
    "                w_matches[n_toy] = w_matches[n_toy] + len(matches)\n",
    "    toys_count = list(w_matches.items())\n",
    "    sorted_toys_count = sorted(toys_count, key=lambda tup: tup[1], reverse=True)\n",
    "    top_toys = sorted_toys_count[:topToys]\n",
    "    resorted_top_toys = sorted(toys_count, key=lambda tup: tup[1])\n",
    "    if top_toys == resorted_top_toys:\n",
    "        toys_sorted_abc = sorted(top_toys, key=lambda tup: tup[0])\n",
    "        res = []\n",
    "        for toy in toys_sorted_abc:\n",
    "            res.append(toy[0])\n",
    "    else:\n",
    "        res = []\n",
    "        for toy in top_toys:\n",
    "            res.append(toy[0])\n",
    "    return res\n",
    "    \n",
    "#     print(w_matches)\n",
    "#     print(sorted_toys_count)\n",
    "#     print(toys_count)\n"
   ]
  },
  {
   "cell_type": "code",
   "execution_count": 41,
   "metadata": {},
   "outputs": [
    {
     "name": "stdout",
     "output_type": "stream",
     "text": [
      "[('bike', 2), ('doll', 2)]\n"
     ]
    }
   ],
   "source": [
    "print(popularNToys(numToys, topToys, toys, numQuotes, quotes))"
   ]
  },
  {
   "cell_type": "code",
   "execution_count": null,
   "metadata": {},
   "outputs": [],
   "source": [
    "import re\n",
    "from collections import OrderedDict\n",
    "\n",
    "def popularNToys(numToys, topToys, toys, \n",
    "                    numQuotes, quotes):\n",
    "    # WRITE YOUR CODE HERE\n",
    "    w_matches = OrderedDict()\n",
    "    for toy in toys:\n",
    "        for quote in quotes:\n",
    "            n_toy = toy.lower()\n",
    "            n_quote = quote.lower()\n",
    "            matches = re.findall(n_toy, n_quote)\n",
    "            if n_toy not in w_matches:\n",
    "                w_matches[n_toy] = len(matches)\n",
    "            else:\n",
    "                w_matches[n_toy] = w_matches[n_toy] + len(matches)\n",
    "    toys_count = list(w_matches.items())\n",
    "    sorted_toys_count = sorted(toys_count, key=lambda tup: tup[1], reverse=True)\n",
    "    return  sorted_toys_count[:topToys]\n",
    "    "
   ]
  }
 ],
 "metadata": {
  "kernelspec": {
   "display_name": "Python 3",
   "language": "python",
   "name": "python3"
  },
  "language_info": {
   "codemirror_mode": {
    "name": "ipython",
    "version": 3
   },
   "file_extension": ".py",
   "mimetype": "text/x-python",
   "name": "python",
   "nbconvert_exporter": "python",
   "pygments_lexer": "ipython3",
   "version": "3.6.9"
  }
 },
 "nbformat": 4,
 "nbformat_minor": 2
}
