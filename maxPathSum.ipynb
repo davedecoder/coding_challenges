{
 "cells": [
  {
   "cell_type": "markdown",
   "metadata": {},
   "source": []
  },
  {
   "cell_type": "code",
   "execution_count": 1,
   "metadata": {},
   "outputs": [],
   "source": [
    "from typing import Optional, List, Union\n",
    "from dataclasses import dataclass, field"
   ]
  },
  {
   "cell_type": "code",
   "execution_count": 2,
   "metadata": {},
   "outputs": [],
   "source": [
    "# Definition for a binary tree node.\n",
    "class TreeNode:\n",
    "     def __init__(self, val=0, left=None, right=None):\n",
    "         self.val = val\n",
    "         self.left = left\n",
    "         self.right = right\n",
    "\n",
    "class Solution:\n",
    "    def maxPathSum(self, root: Optional[TreeNode]) -> Optional[int]:\n",
    "        pass"
   ]
  },
  {
   "cell_type": "code",
   "execution_count": 3,
   "metadata": {},
   "outputs": [],
   "source": [
    "def unshift_one(arr: List) -> [List, Optional[int]]:\n",
    "    head = None\n",
    "    if len(arr) > 0:\n",
    "        head = arr[0]\n",
    "        arr = arr[1:]\n",
    "    return arr, head"
   ]
  },
  {
   "cell_type": "code",
   "execution_count": 4,
   "metadata": {},
   "outputs": [],
   "source": [
    "@dataclass\n",
    "class TreeNodeMaker:\n",
    "    nodes_q: List[TreeNode] = field(default_factory=list)\n",
    "    \n",
    "        \n",
    "    def build_tree(self, input_vals:List) -> Optional[TreeNode]:\n",
    "        if len(input_vals) == 1:\n",
    "            return TreeNode(input_vals[0])\n",
    "        if len(input_vals) == 0:\n",
    "            return None\n",
    "        input_vals, root_val= unshift_one(input_vals)\n",
    "        root = TreeNode(root_val)\n",
    "        self.nodes_q.append(root)\n",
    "        \n",
    "        while len(self.nodes_q) > 0:\n",
    "            self.nodes_q, node = unshift_one(self.nodes_q)\n",
    "            if node is None:\n",
    "                continue\n",
    "            input_vals, left = unshift_one(input_vals)\n",
    "            if left:\n",
    "                node.left = TreeNode(left)\n",
    "                self.nodes_q.append(node.left)\n",
    "            else:\n",
    "                self.nodes_q.append(left)\n",
    "                \n",
    "            input_vals, right = unshift_one(input_vals)\n",
    "            if right:\n",
    "                node.right = TreeNode(right)\n",
    "                self.nodes_q.append(node.right)\n",
    "            else:\n",
    "                self.nodes_q.append(right)\n",
    "        return root \n",
    "\n",
    "        "
   ]
  },
  {
   "cell_type": "code",
   "execution_count": 5,
   "metadata": {},
   "outputs": [],
   "source": [
    "arr = [1,2,3,4,5,6]\n",
    "tm = TreeNodeMaker()\n",
    "root = tm.build_tree(arr)"
   ]
  },
  {
   "cell_type": "code",
   "execution_count": 6,
   "metadata": {},
   "outputs": [],
   "source": [
    "n = root.left"
   ]
  },
  {
   "cell_type": "code",
   "execution_count": 7,
   "metadata": {},
   "outputs": [
    {
     "data": {
      "text/plain": [
       "2"
      ]
     },
     "execution_count": 7,
     "metadata": {},
     "output_type": "execute_result"
    }
   ],
   "source": [
    "n.val"
   ]
  },
  {
   "cell_type": "code",
   "execution_count": 8,
   "metadata": {},
   "outputs": [
    {
     "data": {
      "text/plain": [
       "5"
      ]
     },
     "execution_count": 8,
     "metadata": {},
     "output_type": "execute_result"
    }
   ],
   "source": [
    "n.right.val"
   ]
  },
  {
   "cell_type": "code",
   "execution_count": 9,
   "metadata": {},
   "outputs": [],
   "source": [
    "def print_in_order(input_node: TreeNode):\n",
    "    if input_node is None:\n",
    "        return \n",
    "    levels = []\n",
    "    levels.append([input_node])\n",
    "    while len(levels):\n",
    "        n_row = []\n",
    "        levels, row = unshift_one(levels)\n",
    "        for node in row:\n",
    "            if node:\n",
    "                print(node.val, ', ', end='')\n",
    "                if node.left:\n",
    "                    n_row.append(node.left)                \n",
    "                else:\n",
    "                    n_row.append(None)\n",
    "                if node.right:\n",
    "                    n_row.append(node.right)\n",
    "                else:\n",
    "                    n_row.append(None)\n",
    "            else:\n",
    "                print(node, ', ', end='')\n",
    "                \n",
    "        if len(n_row):\n",
    "            levels.append(n_row)\n",
    "            print()"
   ]
  },
  {
   "cell_type": "code",
   "execution_count": 10,
   "metadata": {},
   "outputs": [
    {
     "name": "stdout",
     "output_type": "stream",
     "text": [
      "1 , \n",
      "2 , 3 , \n",
      "4 , 5 , 6 , None , \n",
      "None , None , None , None , None , None , "
     ]
    }
   ],
   "source": [
    "print_in_order(root)"
   ]
  },
  {
   "cell_type": "code",
   "execution_count": 11,
   "metadata": {},
   "outputs": [],
   "source": [
    "arr = [1, 2, 3, 4, 5, 6, 6, 6, 6, 6]\n",
    "tm = TreeNodeMaker()\n",
    "root = tm.build_tree(arr)"
   ]
  },
  {
   "cell_type": "code",
   "execution_count": 12,
   "metadata": {},
   "outputs": [
    {
     "name": "stdout",
     "output_type": "stream",
     "text": [
      "1 , \n",
      "2 , 3 , \n",
      "4 , 5 , 6 , 6 , \n",
      "6 , 6 , 6 , None , None , None , None , None , \n",
      "None , None , None , None , None , None , "
     ]
    }
   ],
   "source": [
    "print_in_order(root)"
   ]
  },
  {
   "cell_type": "code",
   "execution_count": 13,
   "metadata": {},
   "outputs": [],
   "source": [
    "arr = [-10, 9, 20, None, None, 15, 7]\n",
    "tm = TreeNodeMaker()\n",
    "root = tm.build_tree(arr)"
   ]
  },
  {
   "cell_type": "code",
   "execution_count": 14,
   "metadata": {},
   "outputs": [
    {
     "name": "stdout",
     "output_type": "stream",
     "text": [
      "-10 , \n",
      "9 , 20 , \n",
      "None , None , 15 , 7 , \n",
      "None , None , None , None , "
     ]
    }
   ],
   "source": [
    "print_in_order(root)"
   ]
  },
  {
   "cell_type": "code",
   "execution_count": 18,
   "metadata": {},
   "outputs": [],
   "source": [
    "arr = [10, 15, 30, 3, 6, None, 2, 5, None, None, None, 9, 8]\n",
    "tm = TreeNodeMaker()\n",
    "root = tm.build_tree(arr)"
   ]
  },
  {
   "cell_type": "code",
   "execution_count": 19,
   "metadata": {},
   "outputs": [
    {
     "name": "stdout",
     "output_type": "stream",
     "text": [
      "10 , \n",
      "15 , 30 , \n",
      "3 , 6 , None , 2 , \n",
      "5 , None , None , None , 9 , 8 , \n",
      "None , None , None , None , None , None , "
     ]
    }
   ],
   "source": [
    "print_in_order(root)"
   ]
  },
  {
   "cell_type": "code",
   "execution_count": 82,
   "metadata": {},
   "outputs": [],
   "source": [
    "class MaxPathSum:\n",
    "    max_val_sf = float('-inf')\n",
    "    \n",
    "    def max_sum(self, node: TreeNode) -> int:\n",
    "        if node is None:\n",
    "            return 0\n",
    "        val =  self.post_order(node)\n",
    "        return max(self.max_val_sf, val)        \n",
    "        \n",
    "    \n",
    "    def post_order(self, node: TreeNode) -> int:\n",
    "        if node is None:\n",
    "            return 0\n",
    "        left_sum = max(self.post_order(node.left), 0)\n",
    "        right_sum = max(self.post_order(node.right), 0)\n",
    "        self.max_val_sf = max(self.max_val_sf, (left_sum + right_sum + node.val))\n",
    "        return max(left_sum+node.val, right_sum+node.val)"
   ]
  },
  {
   "cell_type": "code",
   "execution_count": 92,
   "metadata": {},
   "outputs": [],
   "source": [
    "arr = [9,6,-3,None,None,-6,2,None,None,2,None,-6,-6,-6]\n",
    "tm = TreeNodeMaker()\n",
    "root = tm.build_tree(arr)"
   ]
  },
  {
   "cell_type": "code",
   "execution_count": 93,
   "metadata": {},
   "outputs": [
    {
     "name": "stdout",
     "output_type": "stream",
     "text": [
      "9 , \n",
      "6 , -3 , \n",
      "None , None , -6 , 2 , \n",
      "None , None , 2 , None , \n",
      "-6 , -6 , \n",
      "-6 , None , None , None , \n",
      "None , None , "
     ]
    }
   ],
   "source": [
    "print_in_order(root)"
   ]
  },
  {
   "cell_type": "code",
   "execution_count": 94,
   "metadata": {},
   "outputs": [
    {
     "data": {
      "text/plain": [
       "16"
      ]
     },
     "execution_count": 94,
     "metadata": {},
     "output_type": "execute_result"
    }
   ],
   "source": [
    "m = MaxPathSum()\n",
    "s = m.max_sum(root)\n",
    "s"
   ]
  },
  {
   "cell_type": "code",
   "execution_count": 83,
   "metadata": {},
   "outputs": [],
   "source": [
    "arr = [2,-1,-2]\n",
    "tm = TreeNodeMaker()\n",
    "root = tm.build_tree(arr)"
   ]
  },
  {
   "cell_type": "code",
   "execution_count": 84,
   "metadata": {},
   "outputs": [
    {
     "name": "stdout",
     "output_type": "stream",
     "text": [
      "2 , \n",
      "-1 , -2 , \n",
      "None , None , None , None , "
     ]
    }
   ],
   "source": [
    "print_in_order(root)"
   ]
  },
  {
   "cell_type": "code",
   "execution_count": 85,
   "metadata": {},
   "outputs": [
    {
     "data": {
      "text/plain": [
       "2"
      ]
     },
     "execution_count": 85,
     "metadata": {},
     "output_type": "execute_result"
    }
   ],
   "source": [
    "m = MaxPathSum()\n",
    "s = m.max_sum(root)\n",
    "s"
   ]
  },
  {
   "cell_type": "code",
   "execution_count": 86,
   "metadata": {},
   "outputs": [],
   "source": [
    "arr = [-2,-1,2,None,None,-1,2]\n",
    "tm = TreeNodeMaker()\n",
    "root = tm.build_tree(arr)"
   ]
  },
  {
   "cell_type": "code",
   "execution_count": 87,
   "metadata": {},
   "outputs": [
    {
     "name": "stdout",
     "output_type": "stream",
     "text": [
      "-2 , \n",
      "-1 , 2 , \n",
      "None , None , -1 , 2 , \n",
      "None , None , None , None , "
     ]
    }
   ],
   "source": [
    "print_in_order(root)"
   ]
  },
  {
   "cell_type": "code",
   "execution_count": 88,
   "metadata": {},
   "outputs": [
    {
     "data": {
      "text/plain": [
       "4"
      ]
     },
     "execution_count": 88,
     "metadata": {},
     "output_type": "execute_result"
    }
   ],
   "source": [
    "m = MaxPathSum()\n",
    "s = m.max_sum(root)\n",
    "s"
   ]
  },
  {
   "cell_type": "code",
   "execution_count": 55,
   "metadata": {},
   "outputs": [],
   "source": [
    "arr = [-10,9,20,None,None,15,7]\n",
    "tm = TreeNodeMaker()\n",
    "root = tm.build_tree(arr)"
   ]
  },
  {
   "cell_type": "code",
   "execution_count": 56,
   "metadata": {},
   "outputs": [
    {
     "name": "stdout",
     "output_type": "stream",
     "text": [
      "-10 , \n",
      "9 , 20 , \n",
      "None , None , 15 , 7 , \n",
      "None , None , None , None , "
     ]
    }
   ],
   "source": [
    "print_in_order(root)"
   ]
  },
  {
   "cell_type": "code",
   "execution_count": 57,
   "metadata": {},
   "outputs": [
    {
     "data": {
      "text/plain": [
       "42"
      ]
     },
     "execution_count": 57,
     "metadata": {},
     "output_type": "execute_result"
    }
   ],
   "source": [
    "m = MaxPathSum()\n",
    "s = m.max_sum(root)\n",
    "s"
   ]
  },
  {
   "cell_type": "code",
   "execution_count": 58,
   "metadata": {},
   "outputs": [],
   "source": [
    "arr = [1,2,3,4,5,6,None]\n",
    "tm = TreeNodeMaker()\n",
    "root = tm.build_tree(arr)"
   ]
  },
  {
   "cell_type": "code",
   "execution_count": 59,
   "metadata": {},
   "outputs": [
    {
     "name": "stdout",
     "output_type": "stream",
     "text": [
      "1 , \n",
      "2 , 3 , \n",
      "4 , 5 , 6 , None , \n",
      "None , None , None , None , None , None , "
     ]
    }
   ],
   "source": [
    "print_in_order(root)"
   ]
  },
  {
   "cell_type": "code",
   "execution_count": 60,
   "metadata": {},
   "outputs": [
    {
     "data": {
      "text/plain": [
       "17"
      ]
     },
     "execution_count": 60,
     "metadata": {},
     "output_type": "execute_result"
    }
   ],
   "source": [
    "m = MaxPathSum()\n",
    "s = m.max_sum(root)\n",
    "s"
   ]
  },
  {
   "cell_type": "code",
   "execution_count": 62,
   "metadata": {},
   "outputs": [],
   "source": [
    "arr = [1,2,3]\n",
    "tm = TreeNodeMaker()\n",
    "root = tm.build_tree(arr)"
   ]
  },
  {
   "cell_type": "code",
   "execution_count": 63,
   "metadata": {},
   "outputs": [
    {
     "name": "stdout",
     "output_type": "stream",
     "text": [
      "1 , \n",
      "2 , 3 , \n",
      "None , None , None , None , "
     ]
    }
   ],
   "source": [
    "print_in_order(root)"
   ]
  },
  {
   "cell_type": "code",
   "execution_count": 64,
   "metadata": {},
   "outputs": [
    {
     "data": {
      "text/plain": [
       "6"
      ]
     },
     "execution_count": 64,
     "metadata": {},
     "output_type": "execute_result"
    }
   ],
   "source": [
    "m = MaxPathSum()\n",
    "s = m.max_sum(root)\n",
    "s"
   ]
  },
  {
   "cell_type": "code",
   "execution_count": 16,
   "metadata": {},
   "outputs": [],
   "source": [
    "arr = [1,2,3,4]\n",
    "e_arr = [2,3,4]\n",
    "e_res = 1\n",
    "n_arr, res = unshift_one(arr)\n",
    "assert e_arr == n_arr\n",
    "assert e_res == res"
   ]
  },
  {
   "cell_type": "code",
   "execution_count": null,
   "metadata": {},
   "outputs": [],
   "source": [
    "arr = []\n",
    "e_arr = []\n",
    "e_res = None\n",
    "n_arr, res = unshift_one(arr)\n",
    "assert e_arr == n_arr\n",
    "assert e_res == res"
   ]
  },
  {
   "cell_type": "code",
   "execution_count": null,
   "metadata": {},
   "outputs": [],
   "source": [
    "arr = [1]\n",
    "e_arr = []\n",
    "e_res = 1\n",
    "n_arr, res = unshift_one(arr)\n",
    "assert e_arr == n_arr\n",
    "assert e_res == res"
   ]
  },
  {
   "cell_type": "code",
   "execution_count": null,
   "metadata": {},
   "outputs": [],
   "source": [
    "arr = [1,2,3,4,5,6]\n",
    "e_l = 1\n",
    "e_r = 2\n",
    "e_rem = [3,4,5,6]\n",
    "rem, l, r = get_left_right(a)\n",
    "assert rem == e_rem\n",
    "assert l == e_l\n",
    "assert r == e_r"
   ]
  },
  {
   "cell_type": "code",
   "execution_count": null,
   "metadata": {},
   "outputs": [],
   "source": [
    "a"
   ]
  },
  {
   "cell_type": "code",
   "execution_count": null,
   "metadata": {},
   "outputs": [],
   "source": [
    "a = [1,2]\n",
    "r = [1,2]\n",
    "assert get_left_right(a) == r"
   ]
  },
  {
   "cell_type": "code",
   "execution_count": null,
   "metadata": {},
   "outputs": [],
   "source": []
  }
 ],
 "metadata": {
  "kernelspec": {
   "display_name": "Python 3",
   "language": "python",
   "name": "python3"
  },
  "language_info": {
   "codemirror_mode": {
    "name": "ipython",
    "version": 3
   },
   "file_extension": ".py",
   "mimetype": "text/x-python",
   "name": "python",
   "nbconvert_exporter": "python",
   "pygments_lexer": "ipython3",
   "version": "3.9.1"
  }
 },
 "nbformat": 4,
 "nbformat_minor": 4
}
