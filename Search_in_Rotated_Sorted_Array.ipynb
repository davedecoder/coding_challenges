{
 "cells": [
  {
   "cell_type": "code",
   "execution_count": 1,
   "metadata": {},
   "outputs": [],
   "source": [
    "from typing import List"
   ]
  },
  {
   "cell_type": "code",
   "execution_count": 2,
   "metadata": {},
   "outputs": [
    {
     "data": {
      "text/plain": [
       "0"
      ]
     },
     "execution_count": 2,
     "metadata": {},
     "output_type": "execute_result"
    }
   ],
   "source": [
    "((1 - 0) // 2)"
   ]
  },
  {
   "cell_type": "code",
   "execution_count": 3,
   "metadata": {},
   "outputs": [],
   "source": [
    "class Solution:\n",
    "    def find_pivot(self, nums: List[int]) -> int:\n",
    "        if len(nums) < 1:\n",
    "            return -1\n",
    "        l, r = 0, len(nums) - 1\n",
    "        first = nums[0]\n",
    "        \n",
    "        while l < r:\n",
    "            mid = l +  ((r - l) // 2)\n",
    "            if first < nums[mid]:\n",
    "                l += 1 \n",
    "            elif nums[l] < first:\n",
    "                r -= 1\n",
    "            else:\n",
    "                l += 1\n",
    "                 \n",
    "                \n",
    "        print(l,r)\n",
    "        if first > nums[l]:\n",
    "            return l\n",
    "        return 0\n",
    "    \n",
    "    \n",
    "    \n",
    "    def binary_search(self, nums: List[int], target: int) -> int:\n",
    "        l, r = 0, len(nums) - 1\n",
    "        \n",
    "        while l <= r:\n",
    "            mid = l + ((r - l) // 2)\n",
    "            guess = nums[mid]\n",
    "            if target == guess:\n",
    "                return mid\n",
    "            if target < guess:\n",
    "                r = mid - 1\n",
    "            else:\n",
    "                l = mid + 1        \n",
    "        return -1\n",
    "        \n",
    "    \n",
    "    def search(self, nums: List[int], target: int) -> int:\n",
    "        pivot = self.find_pivot(nums)\n",
    "        if pivot > -1:\n",
    "            left = self.binary_search(nums[:pivot], target)        \n",
    "            right = self.binary_search(nums[pivot:], target)\n",
    "            if left  > -1:\n",
    "                return left\n",
    "            if right  > -1:\n",
    "                return pivot + right\n",
    "        return -1"
   ]
  },
  {
   "cell_type": "code",
   "execution_count": 4,
   "metadata": {},
   "outputs": [
    {
     "name": "stdout",
     "output_type": "stream",
     "text": [
      "4 4\n",
      "4\n"
     ]
    }
   ],
   "source": [
    "s = Solution()\n",
    "a = [4,5,6,7,0,1,2]\n",
    "pivot = 4\n",
    "res = s.find_pivot(a)\n",
    "print(res)\n",
    "assert res == pivot"
   ]
  },
  {
   "cell_type": "code",
   "execution_count": 5,
   "metadata": {},
   "outputs": [
    {
     "name": "stdout",
     "output_type": "stream",
     "text": [
      "6 6\n",
      "0\n"
     ]
    }
   ],
   "source": [
    "s = Solution()\n",
    "a = [0,1,2,4,5,6,7]\n",
    "pivot = 0\n",
    "res = s.find_pivot(a)\n",
    "print(res)\n",
    "assert res == pivot"
   ]
  },
  {
   "cell_type": "code",
   "execution_count": 6,
   "metadata": {},
   "outputs": [
    {
     "name": "stdout",
     "output_type": "stream",
     "text": [
      "0 0\n",
      "0\n"
     ]
    }
   ],
   "source": [
    "s = Solution()\n",
    "a = [1]\n",
    "pivot = 0\n",
    "res = s.find_pivot(a)\n",
    "print(res)\n",
    "assert res == pivot"
   ]
  },
  {
   "cell_type": "code",
   "execution_count": 7,
   "metadata": {},
   "outputs": [
    {
     "name": "stdout",
     "output_type": "stream",
     "text": [
      "6 6\n",
      "6\n"
     ]
    }
   ],
   "source": [
    "s = Solution()\n",
    "a = [1,2,4,5,6,7,0]\n",
    "pivot = 6\n",
    "res = s.find_pivot(a)\n",
    "print(res)\n",
    "assert res == pivot"
   ]
  },
  {
   "cell_type": "code",
   "execution_count": 8,
   "metadata": {},
   "outputs": [
    {
     "name": "stdout",
     "output_type": "stream",
     "text": [
      "5 5\n",
      "5\n"
     ]
    }
   ],
   "source": [
    "s = Solution()\n",
    "a = [2,4,5,6,7,0,1]\n",
    "pivot = 5\n",
    "res = s.find_pivot(a)\n",
    "print(res)\n",
    "assert res == pivot"
   ]
  },
  {
   "cell_type": "code",
   "execution_count": 9,
   "metadata": {},
   "outputs": [
    {
     "name": "stdout",
     "output_type": "stream",
     "text": [
      "3 3\n",
      "0\n"
     ]
    }
   ],
   "source": [
    "s = Solution()\n",
    "a = [1,1,1,1]\n",
    "pivot = 0\n",
    "res = s.find_pivot(a)\n",
    "print(res)\n",
    "assert res == pivot"
   ]
  },
  {
   "cell_type": "code",
   "execution_count": 10,
   "metadata": {},
   "outputs": [
    {
     "name": "stdout",
     "output_type": "stream",
     "text": [
      "1 1\n",
      "0\n"
     ]
    }
   ],
   "source": [
    "s = Solution()\n",
    "a = [1,3]\n",
    "pivot = 0\n",
    "res = s.find_pivot(a)\n",
    "print(res)\n",
    "assert res == pivot"
   ]
  },
  {
   "cell_type": "code",
   "execution_count": 11,
   "metadata": {},
   "outputs": [
    {
     "name": "stdout",
     "output_type": "stream",
     "text": [
      "1 1\n",
      "1\n"
     ]
    }
   ],
   "source": [
    "s = Solution()\n",
    "a = [3,1]\n",
    "pivot = 1\n",
    "res = s.find_pivot(a)\n",
    "print(res)\n",
    "assert res == pivot"
   ]
  },
  {
   "cell_type": "code",
   "execution_count": 12,
   "metadata": {},
   "outputs": [
    {
     "name": "stdout",
     "output_type": "stream",
     "text": [
      "-1\n"
     ]
    }
   ],
   "source": [
    "s = Solution()\n",
    "a = []\n",
    "pivot = -1\n",
    "res = s.find_pivot(a)\n",
    "print(res)\n",
    "assert res == pivot"
   ]
  },
  {
   "cell_type": "code",
   "execution_count": 13,
   "metadata": {},
   "outputs": [
    {
     "name": "stdout",
     "output_type": "stream",
     "text": [
      "4 4\n",
      "0\n"
     ]
    }
   ],
   "source": [
    "s = Solution()\n",
    "a = [4,5,6,7,0,1,2]\n",
    "target = 4\n",
    "expected = 0\n",
    "res = s.search(a, target)\n",
    "print(res)\n",
    "assert res == expected"
   ]
  },
  {
   "cell_type": "code",
   "execution_count": 14,
   "metadata": {},
   "outputs": [
    {
     "name": "stdout",
     "output_type": "stream",
     "text": [
      "6 6\n",
      "0\n"
     ]
    }
   ],
   "source": [
    "s = Solution()\n",
    "a = [0,1,2,4,5,6,7]\n",
    "target = 0\n",
    "expected = 0\n",
    "res = s.search(a, target)\n",
    "print(res)\n",
    "assert res == expected"
   ]
  },
  {
   "cell_type": "code",
   "execution_count": 15,
   "metadata": {},
   "outputs": [
    {
     "name": "stdout",
     "output_type": "stream",
     "text": [
      "4 4\n",
      "3\n"
     ]
    }
   ],
   "source": [
    "s = Solution()\n",
    "a = [4,5,6,7,0,1,2]\n",
    "target = 7\n",
    "expected = 3\n",
    "res = s.search(a, target)\n",
    "print(res)\n",
    "assert res == expected"
   ]
  },
  {
   "cell_type": "code",
   "execution_count": 16,
   "metadata": {},
   "outputs": [
    {
     "name": "stdout",
     "output_type": "stream",
     "text": [
      "6 6\n",
      "6\n"
     ]
    }
   ],
   "source": [
    "s = Solution()\n",
    "a = [0,1,2,4,5,6,7]\n",
    "target = 7\n",
    "expected = 6\n",
    "res = s.search(a, target)\n",
    "print(res)\n",
    "assert res == expected"
   ]
  },
  {
   "cell_type": "code",
   "execution_count": 17,
   "metadata": {},
   "outputs": [
    {
     "name": "stdout",
     "output_type": "stream",
     "text": [
      "6 6\n",
      "-1\n"
     ]
    }
   ],
   "source": [
    "s = Solution()\n",
    "a = [0,1,2,4,5,6,7]\n",
    "target = 9\n",
    "expected = -1\n",
    "res = s.search(a, target)\n",
    "print(res)\n",
    "assert res == expected"
   ]
  },
  {
   "cell_type": "code",
   "execution_count": 18,
   "metadata": {},
   "outputs": [
    {
     "name": "stdout",
     "output_type": "stream",
     "text": [
      "0\n"
     ]
    }
   ],
   "source": [
    "s = Solution()\n",
    "a = [0,1,2,4,5,6,7]\n",
    "target = 0\n",
    "expected = 0\n",
    "res = s.binary_search(a, target)\n",
    "print(res)\n",
    "assert res == expected"
   ]
  },
  {
   "cell_type": "code",
   "execution_count": 19,
   "metadata": {},
   "outputs": [
    {
     "name": "stdout",
     "output_type": "stream",
     "text": [
      "3\n"
     ]
    }
   ],
   "source": [
    "s = Solution()\n",
    "a = [0,1,2,4,5,6,7]\n",
    "target = 4\n",
    "expected = 3\n",
    "res = s.binary_search(a, target)\n",
    "print(res)\n",
    "assert res == expected"
   ]
  },
  {
   "cell_type": "code",
   "execution_count": 20,
   "metadata": {},
   "outputs": [
    {
     "name": "stdout",
     "output_type": "stream",
     "text": [
      "2\n"
     ]
    }
   ],
   "source": [
    "s = Solution()\n",
    "a = [5,6,7]\n",
    "target = 7\n",
    "expected = 2\n",
    "res = s.binary_search(a, target)\n",
    "print(res)\n",
    "assert res == expected"
   ]
  },
  {
   "cell_type": "code",
   "execution_count": 21,
   "metadata": {},
   "outputs": [
    {
     "name": "stdout",
     "output_type": "stream",
     "text": [
      "0\n"
     ]
    }
   ],
   "source": [
    "s = Solution()\n",
    "a = [5,6,7]\n",
    "target = 5\n",
    "expected = 0\n",
    "res = s.binary_search(a, target)\n",
    "print(res)\n",
    "assert res == expected\n"
   ]
  },
  {
   "cell_type": "code",
   "execution_count": 22,
   "metadata": {},
   "outputs": [
    {
     "name": "stdout",
     "output_type": "stream",
     "text": [
      "-1\n"
     ]
    }
   ],
   "source": [
    "s = Solution()\n",
    "a = [0,1,2,4,5,6,7]\n",
    "target = 8\n",
    "expected = -1\n",
    "res = s.binary_search(a, target)\n",
    "print(res)\n",
    "assert res == expected"
   ]
  },
  {
   "cell_type": "code",
   "execution_count": 23,
   "metadata": {},
   "outputs": [
    {
     "name": "stdout",
     "output_type": "stream",
     "text": [
      "1\n"
     ]
    }
   ],
   "source": [
    "s = Solution()\n",
    "a = [4,5,6,7]\n",
    "target = 5\n",
    "expected = 1\n",
    "res = s.binary_search(a, target)\n",
    "print(res)\n",
    "assert res == expected"
   ]
  },
  {
   "cell_type": "code",
   "execution_count": 24,
   "metadata": {},
   "outputs": [
    {
     "name": "stdout",
     "output_type": "stream",
     "text": [
      "0\n"
     ]
    }
   ],
   "source": [
    "s = Solution()\n",
    "a = [7]\n",
    "target = 7\n",
    "expected = 0\n",
    "res = s.binary_search(a, target)\n",
    "print(res)\n",
    "assert res == expected"
   ]
  },
  {
   "cell_type": "code",
   "execution_count": 25,
   "metadata": {},
   "outputs": [
    {
     "name": "stdout",
     "output_type": "stream",
     "text": [
      "-1\n"
     ]
    }
   ],
   "source": [
    "s = Solution()\n",
    "a = []\n",
    "target = 4\n",
    "expected = -1\n",
    "res = s.binary_search(a, target)\n",
    "print(res)\n",
    "assert res == expected"
   ]
  },
  {
   "cell_type": "code",
   "execution_count": null,
   "metadata": {
    "scrolled": true
   },
   "outputs": [],
   "source": []
  },
  {
   "cell_type": "code",
   "execution_count": null,
   "metadata": {},
   "outputs": [],
   "source": []
  },
  {
   "cell_type": "code",
   "execution_count": null,
   "metadata": {},
   "outputs": [],
   "source": []
  },
  {
   "cell_type": "code",
   "execution_count": null,
   "metadata": {},
   "outputs": [],
   "source": []
  },
  {
   "cell_type": "code",
   "execution_count": null,
   "metadata": {},
   "outputs": [],
   "source": []
  },
  {
   "cell_type": "code",
   "execution_count": null,
   "metadata": {},
   "outputs": [],
   "source": []
  },
  {
   "cell_type": "code",
   "execution_count": null,
   "metadata": {},
   "outputs": [],
   "source": []
  },
  {
   "cell_type": "code",
   "execution_count": null,
   "metadata": {},
   "outputs": [],
   "source": []
  },
  {
   "cell_type": "code",
   "execution_count": null,
   "metadata": {},
   "outputs": [],
   "source": []
  }
 ],
 "metadata": {
  "kernelspec": {
   "display_name": "Python 3",
   "language": "python",
   "name": "python3"
  },
  "language_info": {
   "codemirror_mode": {
    "name": "ipython",
    "version": 3
   },
   "file_extension": ".py",
   "mimetype": "text/x-python",
   "name": "python",
   "nbconvert_exporter": "python",
   "pygments_lexer": "ipython3",
   "version": "3.9.1"
  }
 },
 "nbformat": 4,
 "nbformat_minor": 4
}
