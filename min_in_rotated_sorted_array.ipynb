{
 "cells": [
  {
   "cell_type": "code",
   "execution_count": 80,
   "metadata": {},
   "outputs": [],
   "source": [
    "from typing import List"
   ]
  },
  {
   "cell_type": "code",
   "execution_count": 89,
   "metadata": {},
   "outputs": [],
   "source": [
    "class Solution:\n",
    "    def findMin(self, nums: List[int]) -> int:\n",
    "        l, r = 0, len(nums) - 1\n",
    "        while l < r:\n",
    "            mid = l + ((r - l) // 2)\n",
    "            guess = nums[mid]\n",
    "            if guess < nums[0]:\n",
    "                r = r - 1\n",
    "            else:\n",
    "                l = l + 1\n",
    "        if nums[l] < nums[0]:\n",
    "            return nums[l]\n",
    "        if nums[0] < nums[l]:\n",
    "            return nums[0]\n",
    "        return nums[r]"
   ]
  },
  {
   "cell_type": "code",
   "execution_count": 90,
   "metadata": {},
   "outputs": [
    {
     "name": "stdout",
     "output_type": "stream",
     "text": [
      "0 2\n",
      "0 1\n",
      "1 1\n",
      "1\n"
     ]
    }
   ],
   "source": [
    "s = Solution()\n",
    "arr = [3,1,2]\n",
    "expected = 1\n",
    "res = s.findMin(arr)\n",
    "print(res)\n",
    "assert res == expected"
   ]
  },
  {
   "cell_type": "code",
   "execution_count": 91,
   "metadata": {},
   "outputs": [
    {
     "name": "stdout",
     "output_type": "stream",
     "text": [
      "0 1\n",
      "1 1\n",
      "0\n"
     ]
    }
   ],
   "source": [
    "s = Solution()\n",
    "arr = [1,0]\n",
    "expected = 0\n",
    "res = s.findMin(arr)\n",
    "print(res)\n",
    "assert res == expected"
   ]
  },
  {
   "cell_type": "code",
   "execution_count": 92,
   "metadata": {},
   "outputs": [
    {
     "name": "stdout",
     "output_type": "stream",
     "text": [
      "0 0\n"
     ]
    }
   ],
   "source": [
    "s = Solution()\n",
    "arr = [2]\n",
    "expected = 2\n",
    "res = s.findMin(arr)\n",
    "assert res == expected"
   ]
  },
  {
   "cell_type": "code",
   "execution_count": 93,
   "metadata": {},
   "outputs": [
    {
     "name": "stdout",
     "output_type": "stream",
     "text": [
      "0 6\n",
      "1 6\n",
      "2 6\n",
      "2 5\n",
      "3 5\n",
      "3 4\n",
      "4 4\n"
     ]
    }
   ],
   "source": [
    "s = Solution()\n",
    "arr = [4,5,6,7,0,1,2]\n",
    "expected = 0\n",
    "res = s.findMin(arr)\n",
    "assert res == expected"
   ]
  },
  {
   "cell_type": "code",
   "execution_count": 94,
   "metadata": {},
   "outputs": [
    {
     "name": "stdout",
     "output_type": "stream",
     "text": [
      "0 6\n",
      "1 6\n",
      "2 6\n",
      "3 6\n",
      "4 6\n",
      "5 6\n",
      "6 6\n",
      "0\n"
     ]
    }
   ],
   "source": [
    "s = Solution()\n",
    "arr = [1,2,4,5,6,7,0]\n",
    "expected = 0\n",
    "res = s.findMin(arr)\n",
    "print(res)\n",
    "assert res == expected"
   ]
  },
  {
   "cell_type": "code",
   "execution_count": 95,
   "metadata": {},
   "outputs": [
    {
     "name": "stdout",
     "output_type": "stream",
     "text": [
      "0 5\n",
      "1 5\n",
      "2 5\n",
      "3 5\n",
      "4 5\n",
      "5 5\n",
      "1\n"
     ]
    }
   ],
   "source": [
    "s = Solution()\n",
    "arr = [1,2,4,5,6,7]\n",
    "expected = 1\n",
    "res = s.findMin(arr)\n",
    "print(res)\n",
    "assert res == expected"
   ]
  },
  {
   "cell_type": "code",
   "execution_count": 96,
   "metadata": {},
   "outputs": [
    {
     "name": "stdout",
     "output_type": "stream",
     "text": [
      "0 1\n",
      "1 1\n",
      "1\n"
     ]
    }
   ],
   "source": [
    "s = Solution()\n",
    "arr = [1,2]\n",
    "expected = 1\n",
    "res = s.findMin(arr)\n",
    "print(res)\n",
    "assert res == expected"
   ]
  },
  {
   "cell_type": "code",
   "execution_count": null,
   "metadata": {},
   "outputs": [],
   "source": []
  },
  {
   "cell_type": "code",
   "execution_count": null,
   "metadata": {},
   "outputs": [],
   "source": []
  }
 ],
 "metadata": {
  "kernelspec": {
   "display_name": "Python 3",
   "language": "python",
   "name": "python3"
  },
  "language_info": {
   "codemirror_mode": {
    "name": "ipython",
    "version": 3
   },
   "file_extension": ".py",
   "mimetype": "text/x-python",
   "name": "python",
   "nbconvert_exporter": "python",
   "pygments_lexer": "ipython3",
   "version": "3.9.1"
  }
 },
 "nbformat": 4,
 "nbformat_minor": 4
}
