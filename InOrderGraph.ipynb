{
 "cells": [
  {
   "cell_type": "code",
   "execution_count": 2,
   "metadata": {},
   "outputs": [],
   "source": [
    "from typing import List"
   ]
  },
  {
   "cell_type": "code",
   "execution_count": 3,
   "metadata": {},
   "outputs": [],
   "source": [
    "# Definition for a binary tree node.\n",
    "class TreeNode:\n",
    "    def __init__(self, x):\n",
    "        self.val = x\n",
    "        self.left = None\n",
    "        self.right = None"
   ]
  },
  {
   "cell_type": "code",
   "execution_count": 6,
   "metadata": {},
   "outputs": [],
   "source": [
    "class Solution:\n",
    "    def listInOrder(self, node:TreeNode) -> List:\n",
    "        pre_list = list()\n",
    "        if node.left is not None:\n",
    "            pre_list += self.listInOrder(node.left)\n",
    "        pre_list += [node.val]\n",
    "        if node.right is not None:\n",
    "            pre_list += self.listInOrder(node.right)\n",
    "        return pre_list\n",
    "            \n",
    "        "
   ]
  },
  {
   "cell_type": "code",
   "execution_count": 7,
   "metadata": {},
   "outputs": [],
   "source": [
    "node = TreeNode(1)\n",
    "node_b = TreeNode(2)\n",
    "node_c = TreeNode(3)\n",
    "\n",
    "\n",
    "node.left = node_b\n",
    "node.right = node_c\n",
    "s = Solution()\n",
    "result = s.listInOrder(node)\n",
    "assert result == [2,1,3]"
   ]
  },
  {
   "cell_type": "code",
   "execution_count": 9,
   "metadata": {},
   "outputs": [],
   "source": [
    "node = TreeNode(1)\n",
    "node_b = TreeNode(2)\n",
    "node_c = TreeNode(3)\n",
    "node_d = TreeNode(4)\n",
    "node_e = TreeNode(5)\n",
    "\n",
    "\n",
    "node.left = node_b\n",
    "node.right = node_c\n",
    "node_b.left = node_d\n",
    "node_b.right = node_e\n",
    "s = Solution()\n",
    "result = s.listInOrder(node)\n",
    "assert result == [4,2,5,1,3]"
   ]
  },
  {
   "cell_type": "code",
   "execution_count": 10,
   "metadata": {},
   "outputs": [],
   "source": [
    "node = TreeNode(1)\n",
    "node_b = TreeNode(3)\n",
    "node_c = TreeNode(6)\n",
    "node_d = TreeNode(7)\n",
    "node_e = TreeNode(8)\n",
    "node_f = TreeNode(9)\n",
    "\n",
    "\n",
    "node.right = node_b\n",
    "node_b.left = node_c\n",
    "node_b.right = node_d\n",
    "node_c.left = node_e\n",
    "node_c.right = node_f\n",
    "\n",
    "s = Solution()\n",
    "result = s.listInOrder(node)\n",
    "assert result == [1,8,6,9,3,7]"
   ]
  },
  {
   "cell_type": "code",
   "execution_count": null,
   "metadata": {},
   "outputs": [],
   "source": []
  }
 ],
 "metadata": {
  "kernelspec": {
   "display_name": "Python 3",
   "language": "python",
   "name": "python3"
  },
  "language_info": {
   "codemirror_mode": {
    "name": "ipython",
    "version": 3
   },
   "file_extension": ".py",
   "mimetype": "text/x-python",
   "name": "python",
   "nbconvert_exporter": "python",
   "pygments_lexer": "ipython3",
   "version": "3.7.5"
  }
 },
 "nbformat": 4,
 "nbformat_minor": 2
}
