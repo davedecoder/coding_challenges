{
 "cells": [
  {
   "cell_type": "markdown",
   "metadata": {},
   "source": [
    "Given an integer array nums, find the contiguous subarray (containing at least one number) which has the largest sum and return its sum.\n",
    "\n",
    "Example:\n",
    "```\n",
    "Input: [-2,1,-3,4,-1,2,1,-5,4],\n",
    "Output: 6\n",
    "Explanation: [4,-1,2,1] has the largest sum = 6.\n",
    "```"
   ]
  },
  {
   "cell_type": "code",
   "execution_count": 1,
   "metadata": {},
   "outputs": [],
   "source": [
    "from typing import List"
   ]
  },
  {
   "cell_type": "code",
   "execution_count": 2,
   "metadata": {},
   "outputs": [],
   "source": [
    "class Solution:\n",
    "    def maxSubArray(self, nums: List[int]) -> int:\n",
    "        block = 0 \n",
    "        max_sum = nums[0]\n",
    "        while block < (len(nums)):\n",
    "            iterations = len(nums) - block\n",
    "            index = 0 \n",
    "            while iterations > 0:\n",
    "                aux_sum = 0\n",
    "                for i in nums[index: index + (block + 1)]:\n",
    "                    aux_sum += i\n",
    "                if aux_sum > max_sum:\n",
    "                    max_sum = aux_sum\n",
    "                index += 1 \n",
    "                iterations -= 1\n",
    "            block += 1\n",
    "\n",
    "        return max_sum\n",
    "        "
   ]
  },
  {
   "cell_type": "code",
   "execution_count": 3,
   "metadata": {},
   "outputs": [
    {
     "name": "stdout",
     "output_type": "stream",
     "text": [
      "15\n"
     ]
    }
   ],
   "source": [
    "s = Solution()\n",
    "sample_list = [1,2,3,4,5]\n",
    "must = 15\n",
    "result = s.maxSubArray(sample_list)\n",
    "print(result)\n",
    "assert result == must"
   ]
  },
  {
   "cell_type": "code",
   "execution_count": 4,
   "metadata": {},
   "outputs": [
    {
     "name": "stdout",
     "output_type": "stream",
     "text": [
      "37\n"
     ]
    }
   ],
   "source": [
    "s = Solution()\n",
    "sample_list = [1,-22,33,4,-55]\n",
    "must = 37\n",
    "result = s.maxSubArray(sample_list)\n",
    "print(result)\n",
    "assert result == must"
   ]
  },
  {
   "cell_type": "code",
   "execution_count": 5,
   "metadata": {},
   "outputs": [
    {
     "name": "stdout",
     "output_type": "stream",
     "text": [
      "42\n"
     ]
    }
   ],
   "source": [
    "s = Solution()\n",
    "sample_list = [1,-22,33,4,5]\n",
    "must = 42\n",
    "result = s.maxSubArray(sample_list)\n",
    "print(result)\n",
    "assert result == must"
   ]
  },
  {
   "cell_type": "code",
   "execution_count": 6,
   "metadata": {},
   "outputs": [
    {
     "name": "stdout",
     "output_type": "stream",
     "text": [
      "1\n"
     ]
    }
   ],
   "source": [
    "s = Solution()\n",
    "sample_list = [1]\n",
    "must = 1\n",
    "result = s.maxSubArray(sample_list)\n",
    "print(result)\n",
    "assert result == must"
   ]
  },
  {
   "cell_type": "code",
   "execution_count": 7,
   "metadata": {},
   "outputs": [
    {
     "name": "stdout",
     "output_type": "stream",
     "text": [
      "-1\n"
     ]
    }
   ],
   "source": [
    "s = Solution()\n",
    "sample_list = [-1]\n",
    "must = -1\n",
    "result = s.maxSubArray(sample_list)\n",
    "print(result)\n",
    "assert result == must"
   ]
  },
  {
   "cell_type": "markdown",
   "metadata": {},
   "source": [
    "## Solution 2\n",
    "Lets try Kadane's Algorithm approach"
   ]
  },
  {
   "cell_type": "code",
   "execution_count": 125,
   "metadata": {},
   "outputs": [],
   "source": [
    "class Solution:\n",
    " \n",
    "    def maxSubArray(self, nums: List[int]) -> int:\n",
    "        if len(nums) == 0:\n",
    "            return 0\n",
    "        max_ending_here = 0\n",
    "        max_so_far = float('-inf') - 1\n",
    "        for i in range(len(nums)):\n",
    "            max_ending_here = max_ending_here + nums[i]\n",
    "            if max_ending_here > max_so_far:\n",
    "                max_so_far = max_ending_here\n",
    "            if max_ending_here < 0:\n",
    "                max_ending_here = 0\n",
    "        return max_so_far"
   ]
  },
  {
   "cell_type": "code",
   "execution_count": 126,
   "metadata": {},
   "outputs": [
    {
     "name": "stdout",
     "output_type": "stream",
     "text": [
      "15\n"
     ]
    }
   ],
   "source": [
    "s = Solution()\n",
    "sample_list = [1,2,3,4,5]\n",
    "must = 15\n",
    "result = s.maxSubArray(sample_list)\n",
    "print(result)\n",
    "assert result == must"
   ]
  },
  {
   "cell_type": "code",
   "execution_count": 127,
   "metadata": {},
   "outputs": [
    {
     "name": "stdout",
     "output_type": "stream",
     "text": [
      "37\n"
     ]
    }
   ],
   "source": [
    "s = Solution()\n",
    "sample_list = [1,-22,33,4,-55]\n",
    "must = 37\n",
    "result = s.maxSubArray(sample_list)\n",
    "print(result)\n",
    "assert result == must"
   ]
  },
  {
   "cell_type": "code",
   "execution_count": 128,
   "metadata": {},
   "outputs": [
    {
     "name": "stdout",
     "output_type": "stream",
     "text": [
      "42\n"
     ]
    }
   ],
   "source": [
    "s = Solution()\n",
    "sample_list = [1,-22,33,4,5]\n",
    "must = 42\n",
    "result = s.maxSubArray(sample_list)\n",
    "print(result)\n",
    "assert result == must"
   ]
  },
  {
   "cell_type": "code",
   "execution_count": 129,
   "metadata": {},
   "outputs": [
    {
     "name": "stdout",
     "output_type": "stream",
     "text": [
      "1\n"
     ]
    }
   ],
   "source": [
    "s = Solution()\n",
    "sample_list = [1]\n",
    "must = 1\n",
    "result = s.maxSubArray(sample_list)\n",
    "print(result)\n",
    "assert result == must"
   ]
  },
  {
   "cell_type": "code",
   "execution_count": 130,
   "metadata": {},
   "outputs": [
    {
     "name": "stdout",
     "output_type": "stream",
     "text": [
      "-1\n"
     ]
    }
   ],
   "source": [
    "s = Solution()\n",
    "sample_list = [-1]\n",
    "must = -1\n",
    "result = s.maxSubArray(sample_list)\n",
    "print(result)\n",
    "assert result == must"
   ]
  },
  {
   "cell_type": "code",
   "execution_count": 131,
   "metadata": {},
   "outputs": [
    {
     "name": "stdout",
     "output_type": "stream",
     "text": [
      "6\n"
     ]
    }
   ],
   "source": [
    "s = Solution()\n",
    "sample_list = [-2,1,-3,4,-1,2,1,-5,4]\n",
    "must = 6\n",
    "result = s.maxSubArray(sample_list)\n",
    "print(result)\n",
    "assert result == must"
   ]
  },
  {
   "cell_type": "code",
   "execution_count": 132,
   "metadata": {},
   "outputs": [
    {
     "name": "stdout",
     "output_type": "stream",
     "text": [
      "-1\n"
     ]
    }
   ],
   "source": [
    "s = Solution()\n",
    "sample_list = [-2,-1]\n",
    "must = -1\n",
    "result = s.maxSubArray(sample_list)\n",
    "print(result)\n",
    "assert result == must"
   ]
  },
  {
   "cell_type": "code",
   "execution_count": null,
   "metadata": {},
   "outputs": [],
   "source": []
  },
  {
   "cell_type": "code",
   "execution_count": null,
   "metadata": {},
   "outputs": [],
   "source": []
  }
 ],
 "metadata": {
  "kernelspec": {
   "display_name": "Python 3",
   "language": "python",
   "name": "python3"
  },
  "language_info": {
   "codemirror_mode": {
    "name": "ipython",
    "version": 3
   },
   "file_extension": ".py",
   "mimetype": "text/x-python",
   "name": "python",
   "nbconvert_exporter": "python",
   "pygments_lexer": "ipython3",
   "version": "3.9.1"
  }
 },
 "nbformat": 4,
 "nbformat_minor": 4
}
