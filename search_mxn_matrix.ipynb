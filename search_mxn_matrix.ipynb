{
 "cells": [
  {
   "cell_type": "code",
   "execution_count": 1,
   "metadata": {},
   "outputs": [],
   "source": [
    "from typing import List, Tuple"
   ]
  },
  {
   "cell_type": "code",
   "execution_count": 64,
   "metadata": {},
   "outputs": [],
   "source": [
    "class Solution:\n",
    "    \n",
    "    def binary_search(self, nums: List[int], target: int) -> bool:\n",
    "        l, r = 0, len(nums) - 1 \n",
    "        while l <= r:\n",
    "            mid = l + ((r - l) // 2)\n",
    "            guess = nums[mid]\n",
    "            if target == guess:\n",
    "                return True\n",
    "            if target > guess:\n",
    "                l = mid + 1\n",
    "            else: \n",
    "                r = mid - 1\n",
    "        return False\n",
    "\n",
    "    \n",
    "    \n",
    "    def searchMatrix(self, matrix: List[List[int]], target: int) -> bool:\n",
    "        if len(matrix) == 0:\n",
    "            return false\n",
    "        l, r = 0, len(matrix) - 1        \n",
    "        while l <= r:\n",
    "            mid = ((r + l) // 2)\n",
    "            if target >= matrix[mid][0] and target <= matrix[mid][-1]:\n",
    "                return self.binary_search(matrix[mid], target)\n",
    "            if target > matrix[mid][-1]:\n",
    "                l = mid + 1\n",
    "            else: \n",
    "                r = mid - 1\n",
    "                \n",
    "        return False"
   ]
  },
  {
   "cell_type": "code",
   "execution_count": 66,
   "metadata": {},
   "outputs": [
    {
     "name": "stdout",
     "output_type": "stream",
     "text": [
      "False\n"
     ]
    }
   ],
   "source": [
    "s = Solution()\n",
    "matrix = [[1]]\n",
    "target = 0\n",
    "output = False\n",
    "res = s.searchMatrix(matrix, target)\n",
    "print(res)\n",
    "assert res == output"
   ]
  },
  {
   "cell_type": "code",
   "execution_count": 67,
   "metadata": {},
   "outputs": [
    {
     "name": "stdout",
     "output_type": "stream",
     "text": [
      "True\n"
     ]
    }
   ],
   "source": [
    "s = Solution()\n",
    "matrix = [[1, 2, 4, 5,],[7, 10, 11, 13],[20, 30, 31, 40], [41, 42, 60, 77]]\n",
    "target = 42\n",
    "output = True\n",
    "res = s.searchMatrix(matrix, target)\n",
    "print(res)\n",
    "assert res == output"
   ]
  },
  {
   "cell_type": "code",
   "execution_count": 68,
   "metadata": {},
   "outputs": [
    {
     "name": "stdout",
     "output_type": "stream",
     "text": [
      "True\n"
     ]
    }
   ],
   "source": [
    "s = Solution()\n",
    "matrix = [[1,3,5,7],[10,11,16,20],[23,30,34,60]]\n",
    "target = 3\n",
    "output = True\n",
    "res = s.searchMatrix(matrix, target)\n",
    "print(res)\n",
    "assert res == output"
   ]
  },
  {
   "cell_type": "code",
   "execution_count": 69,
   "metadata": {},
   "outputs": [
    {
     "name": "stdout",
     "output_type": "stream",
     "text": [
      "True\n"
     ]
    }
   ],
   "source": [
    "s = Solution()\n",
    "matrix = [[1,3,5,7],[10,11,16,20],[23,30,34,50]]\n",
    "target = 11\n",
    "output = True\n",
    "res = s.searchMatrix(matrix, target)\n",
    "print(res)\n",
    "assert res == output"
   ]
  },
  {
   "cell_type": "code",
   "execution_count": 70,
   "metadata": {},
   "outputs": [
    {
     "name": "stdout",
     "output_type": "stream",
     "text": [
      "True\n"
     ]
    }
   ],
   "source": [
    "s = Solution()\n",
    "matrix = [[1],[3]]\n",
    "target = 1\n",
    "output = True\n",
    "res = s.searchMatrix(matrix, target)\n",
    "print(res)\n",
    "assert res == output"
   ]
  },
  {
   "cell_type": "code",
   "execution_count": 71,
   "metadata": {},
   "outputs": [
    {
     "name": "stdout",
     "output_type": "stream",
     "text": [
      "True\n"
     ]
    }
   ],
   "source": [
    "s = Solution()\n",
    "matrix = [[1, 2, 4, 5,],[7, 10, 11, 13],[20, 30, 31, 40], [41, 42, 60, 77]]\n",
    "target = 13\n",
    "output = True\n",
    "res = s.searchMatrix(matrix, target)\n",
    "print(res)\n",
    "assert res == output"
   ]
  },
  {
   "cell_type": "code",
   "execution_count": 72,
   "metadata": {},
   "outputs": [
    {
     "name": "stdout",
     "output_type": "stream",
     "text": [
      "False\n"
     ]
    }
   ],
   "source": [
    "s = Solution()\n",
    "matrix = [[1, 2, 4, 5,],[7, 10, 11, 13],[20, 30, 31, 40], [41, 42, 60, 77]]\n",
    "target = 14\n",
    "output = False\n",
    "res = s.searchMatrix(matrix, target)\n",
    "print(res)\n",
    "assert res == output"
   ]
  },
  {
   "cell_type": "code",
   "execution_count": 73,
   "metadata": {},
   "outputs": [
    {
     "name": "stdout",
     "output_type": "stream",
     "text": [
      "True\n"
     ]
    }
   ],
   "source": [
    "s = Solution()\n",
    "matrix = [[41, 42, 60, 77]]\n",
    "target = 42\n",
    "output = True\n",
    "res = s.searchMatrix(matrix, target)\n",
    "print(res)\n",
    "assert res == output"
   ]
  },
  {
   "cell_type": "code",
   "execution_count": 74,
   "metadata": {},
   "outputs": [
    {
     "name": "stdout",
     "output_type": "stream",
     "text": [
      "True\n"
     ]
    }
   ],
   "source": [
    "s = Solution()\n",
    "matrix = [[0, 0, 60, 77]]\n",
    "target = 0\n",
    "output = True\n",
    "res = s.searchMatrix(matrix, target)\n",
    "print(res)\n",
    "assert res == output"
   ]
  },
  {
   "cell_type": "code",
   "execution_count": null,
   "metadata": {},
   "outputs": [],
   "source": [
    "\"\"\"\n",
    "1, 2, 4, 5,\n",
    "7, 10, 11, 13\n",
    "20, 30, 31, 40\n",
    "41, 42, 60, 77\n",
    "\"\"\""
   ]
  },
  {
   "cell_type": "code",
   "execution_count": null,
   "metadata": {},
   "outputs": [],
   "source": []
  },
  {
   "cell_type": "code",
   "execution_count": null,
   "metadata": {},
   "outputs": [],
   "source": []
  }
 ],
 "metadata": {
  "kernelspec": {
   "display_name": "Python 3",
   "language": "python",
   "name": "python3"
  },
  "language_info": {
   "codemirror_mode": {
    "name": "ipython",
    "version": 3
   },
   "file_extension": ".py",
   "mimetype": "text/x-python",
   "name": "python",
   "nbconvert_exporter": "python",
   "pygments_lexer": "ipython3",
   "version": "3.9.1"
  }
 },
 "nbformat": 4,
 "nbformat_minor": 4
}
