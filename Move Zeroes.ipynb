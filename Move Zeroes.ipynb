{
 "cells": [
  {
   "cell_type": "markdown",
   "metadata": {},
   "source": [
    "### Move Zeroes"
   ]
  },
  {
   "cell_type": "markdown",
   "metadata": {},
   "source": [
    "Given an array nums, write a function to move all 0's to the end of it while maintaining the relative order of the non-zero elements.\n",
    "\n",
    "```\n",
    "Example:\n",
    "\n",
    "Input: [0,1,0,3,12]\n",
    "Output: [1,3,12,0,0]\n",
    "```\n",
    "Note:\n",
    "\n",
    "You must do this in-place without making a copy of the array.\n",
    "Minimize the total number of operations."
   ]
  },
  {
   "cell_type": "code",
   "execution_count": 79,
   "metadata": {},
   "outputs": [],
   "source": [
    "from typing import List"
   ]
  },
  {
   "cell_type": "code",
   "execution_count": 80,
   "metadata": {},
   "outputs": [],
   "source": [
    "class Solution:\n",
    "    def moveZeroes(self, nums: List[int]) -> List:\n",
    "        if len(nums) == 1:\n",
    "            return nums\n",
    "        middle = len(nums)//2\n",
    "        left = self.moveZeroes(nums[:middle])\n",
    "        right = self.moveZeroes(nums[middle:])\n",
    "        while True:\n",
    "            if len(left) > 0 and left[-1] == 0:\n",
    "                right.append(left.pop())\n",
    "            else:\n",
    "                left.extend(right)\n",
    "                break\n",
    "        return left"
   ]
  },
  {
   "cell_type": "code",
   "execution_count": 81,
   "metadata": {},
   "outputs": [],
   "source": [
    "s = Solution()\n",
    "must = [1,3,12,0,0]\n",
    "nums = [0,1,0,3,12]\n",
    "result = s.moveZeroes(nums)\n",
    "assert result == must"
   ]
  },
  {
   "cell_type": "code",
   "execution_count": 82,
   "metadata": {},
   "outputs": [],
   "source": [
    "s = Solution()\n",
    "must = [3,12,1,0,0,0]\n",
    "nums = [0,0,0,3,12,1]\n",
    "result = s.moveZeroes(nums)\n",
    "assert result == must"
   ]
  },
  {
   "cell_type": "code",
   "execution_count": 83,
   "metadata": {},
   "outputs": [],
   "source": [
    "s = Solution()\n",
    "must = [3,12,1,0,0,0,0,0,0]\n",
    "nums = [0,0,0,3,12,1,0,0,0]\n",
    "result = s.moveZeroes(nums)\n",
    "assert result == must"
   ]
  },
  {
   "cell_type": "code",
   "execution_count": 84,
   "metadata": {},
   "outputs": [],
   "source": [
    "s = Solution()\n",
    "must = [3,12,1,10,20]\n",
    "nums = [3,12,1,10,20]\n",
    "result = s.moveZeroes(nums)\n",
    "assert result == must"
   ]
  },
  {
   "cell_type": "code",
   "execution_count": 85,
   "metadata": {},
   "outputs": [],
   "source": [
    "s = Solution()\n",
    "must = [0,0,0,0,0,0]\n",
    "nums = [0,0,0,0,0,0]\n",
    "result = s.moveZeroes(nums)\n",
    "assert result == must"
   ]
  },
  {
   "cell_type": "code",
   "execution_count": 86,
   "metadata": {},
   "outputs": [],
   "source": [
    "s = Solution()\n",
    "must = [1,1,0]\n",
    "nums = [1,0,1]\n",
    "result = s.moveZeroes(nums)\n",
    "assert result == must"
   ]
  },
  {
   "cell_type": "markdown",
   "metadata": {},
   "source": [
    "Ok  that was funny but lets make it not to return the list but to modify it instead\n",
    "----"
   ]
  },
  {
   "cell_type": "code",
   "execution_count": 96,
   "metadata": {},
   "outputs": [],
   "source": [
    "class Solution:\n",
    "        \n",
    "    def moveZeroes(self, nums: List[int]) -> None:\n",
    "        if len(nums) <= 1:\n",
    "            return None\n",
    "        j = 0\n",
    "        for i in range(1,len(nums)):\n",
    "            if nums[j] == 0 and nums[i] != 0:\n",
    "                nums[j], nums[i] = nums[i], nums[j]\n",
    "                j += 1\n",
    "            if nums[j] != 0:\n",
    "                j += 1\n",
    "        return None"
   ]
  },
  {
   "cell_type": "code",
   "execution_count": 97,
   "metadata": {},
   "outputs": [
    {
     "name": "stdout",
     "output_type": "stream",
     "text": [
      "[1, 0]\n"
     ]
    }
   ],
   "source": [
    "s = Solution()\n",
    "nums = [0,1]\n",
    "must = [1,0]\n",
    "result = s.moveZeroes(nums)\n",
    "print(nums)\n",
    "assert nums == must"
   ]
  },
  {
   "cell_type": "code",
   "execution_count": 98,
   "metadata": {},
   "outputs": [
    {
     "name": "stdout",
     "output_type": "stream",
     "text": [
      "[0]\n"
     ]
    }
   ],
   "source": [
    "s = Solution()\n",
    "nums = [0]\n",
    "must = [0]\n",
    "result = s.moveZeroes(nums)\n",
    "print(nums)\n",
    "assert nums == must"
   ]
  },
  {
   "cell_type": "code",
   "execution_count": 99,
   "metadata": {},
   "outputs": [],
   "source": [
    "s = Solution()\n",
    "must = [1,3,12,0,0]\n",
    "nums = [0,1,0,3,12]\n",
    "result = s.moveZeroes(nums)\n",
    "assert nums == must"
   ]
  },
  {
   "cell_type": "code",
   "execution_count": 100,
   "metadata": {},
   "outputs": [],
   "source": [
    "s = Solution()\n",
    "must = [3,12,1,0,0,0]\n",
    "nums = [0,0,0,3,12,1]\n",
    "s.moveZeroes(nums)\n",
    "assert nums == must"
   ]
  },
  {
   "cell_type": "code",
   "execution_count": 101,
   "metadata": {},
   "outputs": [],
   "source": [
    "s = Solution()\n",
    "must = [3,12,1,0,0,0,0,0,0]\n",
    "nums = [0,0,0,3,12,1,0,0,0]\n",
    "s.moveZeroes(nums)\n",
    "assert nums == must"
   ]
  },
  {
   "cell_type": "code",
   "execution_count": 102,
   "metadata": {},
   "outputs": [],
   "source": [
    "s = Solution()\n",
    "must = [3,12,1,10,20]\n",
    "nums = [3,12,1,10,20]\n",
    "s.moveZeroes(nums)\n",
    "assert nums == must"
   ]
  },
  {
   "cell_type": "code",
   "execution_count": 103,
   "metadata": {},
   "outputs": [],
   "source": [
    "s = Solution()\n",
    "must = [0,0,0,0,0,0]\n",
    "nums = [0,0,0,0,0,0]\n",
    "s.moveZeroes(nums)\n",
    "assert nums == must"
   ]
  },
  {
   "cell_type": "code",
   "execution_count": 104,
   "metadata": {},
   "outputs": [],
   "source": [
    "s = Solution()\n",
    "must = [1,1,0]\n",
    "nums = [1,0,1]\n",
    "s.moveZeroes(nums)\n",
    "assert nums == must"
   ]
  },
  {
   "cell_type": "code",
   "execution_count": 105,
   "metadata": {},
   "outputs": [],
   "source": [
    "s = Solution()\n",
    "must = [1,1,1,3,12,0,0,0]\n",
    "nums = [1,0,1,0,0,1,3,12]\n",
    "s.moveZeroes(nums)\n",
    "assert nums == must"
   ]
  },
  {
   "cell_type": "markdown",
   "metadata": {},
   "source": [
    "OK! that was fun wasnt it? Congrtulations!\n",
    "--"
   ]
  },
  {
   "cell_type": "code",
   "execution_count": null,
   "metadata": {},
   "outputs": [],
   "source": []
  }
 ],
 "metadata": {
  "kernelspec": {
   "display_name": "Python 3",
   "language": "python",
   "name": "python3"
  },
  "language_info": {
   "codemirror_mode": {
    "name": "ipython",
    "version": 3
   },
   "file_extension": ".py",
   "mimetype": "text/x-python",
   "name": "python",
   "nbconvert_exporter": "python",
   "pygments_lexer": "ipython3",
   "version": "3.7.5"
  }
 },
 "nbformat": 4,
 "nbformat_minor": 4
}
