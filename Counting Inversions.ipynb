{
 "cells": [
  {
   "cell_type": "markdown",
   "metadata": {},
   "source": [
    "# Counting Inversions \n",
    "\n",
    "Input: Array A containing some list of integers in some arbitrary order \n",
    "\n",
    "Output: number of inversions = number of pairs (i,j) of array indices with i < j and A[i] > A[j] \n",
    "\n",
    "Example: \n",
    "\n",
    "A = [1,3,5,2,4,6]\n",
    "\n",
    "Inversions = (3,2), (5,2), (5,4)\n",
    "\n",
    "Number of inversions = 3\n",
    "\n",
    "Motivation = numerical similarity measure between 2 ranked lists e.g. \"colaborative filtering\""
   ]
  },
  {
   "cell_type": "code",
   "execution_count": 1,
   "metadata": {},
   "outputs": [],
   "source": [
    "from typing import List, Tuple"
   ]
  },
  {
   "cell_type": "code",
   "execution_count": 58,
   "metadata": {},
   "outputs": [],
   "source": [
    "def count_inversions(nums: List)-> Tuple[List, int]:\n",
    "#     print(nums)\n",
    "    inversions = 0\n",
    "    if len(nums) == 1:\n",
    "        return nums, inversions\n",
    "    half = len(nums) // 2\n",
    "    L, l_inversions = count_inversions(nums[:half])\n",
    "    R, r_inversions = count_inversions(nums[half:])\n",
    "#     print(L, R)\n",
    "    # merge\n",
    "    i = j = 0\n",
    "    res = []\n",
    "    inversions = l_inversions + r_inversions\n",
    "    while(i < len(L) and j < len(R)):\n",
    "        if R[j] < L[i]:\n",
    "            res.append(R[j])\n",
    "            j += 1\n",
    "            inversions += len(L) - i\n",
    "        else:\n",
    "            res.append(L[i])\n",
    "            i += 1\n",
    "            \n",
    "    while(i < len(L)):\n",
    "        res.append(L[i])\n",
    "        i += 1\n",
    "    while(j < len(R)):\n",
    "        res.append(R[j])\n",
    "        j += 1\n",
    "    return res, inversions\n",
    "    "
   ]
  },
  {
   "cell_type": "code",
   "execution_count": 59,
   "metadata": {},
   "outputs": [],
   "source": [
    "test_list_1 = [1,2,3,4,5,6]\n",
    "expected_output_1 = [1,2,3,4,5,6]\n",
    "expected_inversions = 0 "
   ]
  },
  {
   "cell_type": "code",
   "execution_count": 60,
   "metadata": {},
   "outputs": [
    {
     "name": "stdout",
     "output_type": "stream",
     "text": [
      "[1, 2, 3, 4, 5, 6]\n"
     ]
    }
   ],
   "source": [
    "# Test 1\n",
    "output_list, inversions = count_inversions(test_list_1)\n",
    "print(output_list)\n",
    "assert (output_list, inversions) == (expected_output_1, expected_inversions)"
   ]
  },
  {
   "cell_type": "code",
   "execution_count": 61,
   "metadata": {},
   "outputs": [
    {
     "name": "stdout",
     "output_type": "stream",
     "text": [
      "[1, 2, 3, 4, 5, 6] 3\n"
     ]
    }
   ],
   "source": [
    "# Test 2\n",
    "test_list = [1,3,5,2,4,6]\n",
    "expected_output = [1,2,3,4,5,6]\n",
    "expected_inversions = 3 \n",
    "#\n",
    "output_list, inversions = count_inversions(test_list)\n",
    "print(output_list, inversions)\n",
    "assert (output_list, inversions) == (expected_output, expected_inversions)"
   ]
  },
  {
   "cell_type": "code",
   "execution_count": 67,
   "metadata": {},
   "outputs": [
    {
     "name": "stdout",
     "output_type": "stream",
     "text": [
      "[1, 2, 3, 4, 5, 6] 15\n"
     ]
    }
   ],
   "source": [
    "# Test 3\n",
    "test_list = [6,5,4,3,2,1]\n",
    "expected_output = [1,2,3,4,5,6]\n",
    "expected_inversions = 15 \n",
    "#\n",
    "output_list, inversions = count_inversions(test_list)\n",
    "print(output_list, inversions)\n",
    "assert (output_list, inversions) == (expected_output, expected_inversions)"
   ]
  },
  {
   "cell_type": "code",
   "execution_count": 68,
   "metadata": {},
   "outputs": [
    {
     "name": "stdout",
     "output_type": "stream",
     "text": [
      "[1, 2, 3, 4, 5, 6, 7, 8, 9] 2\n"
     ]
    }
   ],
   "source": [
    "# Test 4\n",
    "test_list = [1,2,3,5,4,6,7,9,8]\n",
    "expected_output = [1,2,3,4,5,6,7,8,9]\n",
    "expected_inversions = 2\n",
    "#\n",
    "output_list, inversions = count_inversions(test_list)\n",
    "print(output_list, inversions)\n",
    "assert (output_list, inversions) == (expected_output, expected_inversions)"
   ]
  },
  {
   "cell_type": "code",
   "execution_count": null,
   "metadata": {},
   "outputs": [],
   "source": []
  }
 ],
 "metadata": {
  "kernelspec": {
   "display_name": "Python 3",
   "language": "python",
   "name": "python3"
  },
  "language_info": {
   "codemirror_mode": {
    "name": "ipython",
    "version": 3
   },
   "file_extension": ".py",
   "mimetype": "text/x-python",
   "name": "python",
   "nbconvert_exporter": "python",
   "pygments_lexer": "ipython3",
   "version": "3.7.5"
  }
 },
 "nbformat": 4,
 "nbformat_minor": 4
}
