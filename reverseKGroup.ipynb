{
 "cells": [
  {
   "cell_type": "code",
   "execution_count": 1,
   "metadata": {},
   "outputs": [],
   "source": [
    "from typing import Optional, List"
   ]
  },
  {
   "cell_type": "code",
   "execution_count": 5,
   "metadata": {},
   "outputs": [],
   "source": [
    "# Definition for singly-linked list.\n",
    "class ListNode:\n",
    "     def __init__(self, val=0, next=None):\n",
    "         self.val = val\n",
    "         self.next = next\n",
    "            "
   ]
  },
  {
   "cell_type": "code",
   "execution_count": 14,
   "metadata": {},
   "outputs": [],
   "source": [
    "def linked_list(arr: List):\n",
    "    head = None\n",
    "    if len(arr) > 1:\n",
    "        head = ListNode(arr[0])\n",
    "        node = head\n",
    "        for i in range(1, len(arr)):\n",
    "            node.next = ListNode(arr[i])\n",
    "            node = node.next\n",
    "    if len(arr) == 1:\n",
    "        head = ListNode(arr[0])\n",
    "    return head"
   ]
  },
  {
   "cell_type": "code",
   "execution_count": 19,
   "metadata": {},
   "outputs": [],
   "source": [
    "def print_nodes(head: Optional[ListNode]):\n",
    "    while True:\n",
    "        if head is None:\n",
    "            break\n",
    "        print(head.val)\n",
    "        head = head.next\n",
    "    print(\"end\")"
   ]
  },
  {
   "cell_type": "code",
   "execution_count": 45,
   "metadata": {},
   "outputs": [],
   "source": [
    "class Solution:\n",
    "    \n",
    "    \n",
    "    def reverseKGroup(self, head: Optional[ListNode], k: int) -> Optional[ListNode]:\n",
    "        if head is None:\n",
    "            return None\n",
    "        i = 1\n",
    "        tail = ListNode(head.val)\n",
    "        node = tail\n",
    "        s_head = head\n",
    "        head = head.next\n",
    "        \n",
    "        while True:\n",
    "            if head is None:\n",
    "                return s_head\n",
    "            n_node = ListNode(head.val, node)\n",
    "            node = n_node\n",
    "            head = head.next\n",
    "            i += 1\n",
    "            if i == k:\n",
    "                break\n",
    "        if head is not None:\n",
    "            link = self.reverseKGroup(head, k)\n",
    "            if link is not None:\n",
    "                tail.next = link\n",
    "        return node"
   ]
  },
  {
   "cell_type": "code",
   "execution_count": 48,
   "metadata": {},
   "outputs": [
    {
     "name": "stdout",
     "output_type": "stream",
     "text": [
      "3\n",
      "2\n",
      "1\n",
      "6\n",
      "5\n",
      "4\n",
      "7\n",
      "8\n",
      "end\n"
     ]
    }
   ],
   "source": [
    "k = 3\n",
    "head = linked_list([1,2,3,4,5,6,7,8])\n",
    "s = Solution()\n",
    "res = s.reverseKGroup(head, k)\n",
    "print_nodes(res)"
   ]
  },
  {
   "cell_type": "code",
   "execution_count": 49,
   "metadata": {},
   "outputs": [
    {
     "name": "stdout",
     "output_type": "stream",
     "text": [
      "3\n",
      "2\n",
      "1\n",
      "4\n",
      "5\n",
      "end\n"
     ]
    }
   ],
   "source": [
    "k = 3\n",
    "head = linked_list([1,2,3,4,5])\n",
    "s = Solution()\n",
    "res = s.reverseKGroup(head, k)\n",
    "print_nodes(res)"
   ]
  },
  {
   "cell_type": "code",
   "execution_count": 50,
   "metadata": {},
   "outputs": [
    {
     "name": "stdout",
     "output_type": "stream",
     "text": [
      "1\n",
      "2\n",
      "3\n",
      "4\n",
      "5\n",
      "end\n"
     ]
    }
   ],
   "source": [
    "k = 1\n",
    "head = linked_list([1,2,3,4,5])\n",
    "s = Solution()\n",
    "res = s.reverseKGroup(head, k)\n",
    "print_nodes(res)\n"
   ]
  },
  {
   "cell_type": "code",
   "execution_count": 51,
   "metadata": {},
   "outputs": [
    {
     "name": "stdout",
     "output_type": "stream",
     "text": [
      "1\n",
      "end\n"
     ]
    }
   ],
   "source": [
    "k = 1\n",
    "head = linked_list([1])\n",
    "s = Solution()\n",
    "res = s.reverseKGroup(head, k)\n",
    "print_nodes(res)"
   ]
  },
  {
   "cell_type": "code",
   "execution_count": 52,
   "metadata": {},
   "outputs": [
    {
     "name": "stdout",
     "output_type": "stream",
     "text": [
      "2\n",
      "1\n",
      "4\n",
      "3\n",
      "5\n",
      "end\n"
     ]
    }
   ],
   "source": [
    "k = 2\n",
    "head = linked_list([1,2,3,4,5])\n",
    "s = Solution()\n",
    "res = s.reverseKGroup(head, k)\n",
    "print_nodes(res)"
   ]
  },
  {
   "cell_type": "code",
   "execution_count": null,
   "metadata": {},
   "outputs": [],
   "source": []
  }
 ],
 "metadata": {
  "kernelspec": {
   "display_name": "Python 3",
   "language": "python",
   "name": "python3"
  },
  "language_info": {
   "codemirror_mode": {
    "name": "ipython",
    "version": 3
   },
   "file_extension": ".py",
   "mimetype": "text/x-python",
   "name": "python",
   "nbconvert_exporter": "python",
   "pygments_lexer": "ipython3",
   "version": "3.9.1"
  }
 },
 "nbformat": 4,
 "nbformat_minor": 4
}
