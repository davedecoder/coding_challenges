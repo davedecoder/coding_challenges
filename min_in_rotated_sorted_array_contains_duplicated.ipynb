{
 "cells": [
  {
   "cell_type": "code",
   "execution_count": 2,
   "metadata": {},
   "outputs": [],
   "source": [
    "from typing import List"
   ]
  },
  {
   "cell_type": "code",
   "execution_count": 36,
   "metadata": {},
   "outputs": [],
   "source": [
    "class Solution:\n",
    "    def findMin(self, nums: List[int]) -> int:\n",
    "        l, r = 0, len(nums) - 1\n",
    "        first = nums[0]\n",
    "        \n",
    "        while l < r:\n",
    "            mid = l +  ((r - l) // 2)\n",
    "            if first < nums[mid]:\n",
    "                l += 1 \n",
    "            elif nums[l] < first:\n",
    "                r -= 1\n",
    "            else:\n",
    "                l += 1\n",
    "                 \n",
    "                \n",
    "        if first > nums[l]:\n",
    "            return nums[l]\n",
    "        return nums[0]"
   ]
  },
  {
   "cell_type": "code",
   "execution_count": 37,
   "metadata": {},
   "outputs": [
    {
     "name": "stdout",
     "output_type": "stream",
     "text": [
      "0 4\n",
      "1 4\n",
      "1 3\n",
      "1 2\n",
      "1 1\n",
      "1\n"
     ]
    }
   ],
   "source": [
    "s = Solution()\n",
    "arr = [10,1,10,10,10]\n",
    "expected = 1\n",
    "res = s.findMin(arr)\n",
    "print(res)\n",
    "assert res == expected"
   ]
  },
  {
   "cell_type": "code",
   "execution_count": 34,
   "metadata": {},
   "outputs": [
    {
     "name": "stdout",
     "output_type": "stream",
     "text": [
      "3 3\n",
      "0\n"
     ]
    }
   ],
   "source": [
    "s = Solution()\n",
    "arr = [2,2,2,0,1]\n",
    "expected = 0\n",
    "res = s.findMin(arr)\n",
    "print(res)\n",
    "assert res == expected"
   ]
  },
  {
   "cell_type": "code",
   "execution_count": 35,
   "metadata": {},
   "outputs": [
    {
     "name": "stdout",
     "output_type": "stream",
     "text": [
      "1 1\n",
      "1\n"
     ]
    }
   ],
   "source": [
    "s = Solution()\n",
    "arr = [3,1,2]\n",
    "expected = 1\n",
    "res = s.findMin(arr)\n",
    "print(res)\n",
    "assert res == expected"
   ]
  },
  {
   "cell_type": "code",
   "execution_count": null,
   "metadata": {},
   "outputs": [],
   "source": [
    "s = Solution()\n",
    "arr = [1,0]\n",
    "expected = 0\n",
    "res = s.findMin(arr)\n",
    "print(res)\n",
    "assert res == expected"
   ]
  },
  {
   "cell_type": "code",
   "execution_count": null,
   "metadata": {},
   "outputs": [],
   "source": [
    "s = Solution()\n",
    "arr = [2]\n",
    "expected = 2\n",
    "res = s.findMin(arr)\n",
    "assert res == expected"
   ]
  },
  {
   "cell_type": "code",
   "execution_count": null,
   "metadata": {},
   "outputs": [],
   "source": [
    "s = Solution()\n",
    "arr = [4,5,6,7,0,1,2]\n",
    "expected = 0\n",
    "res = s.findMin(arr)\n",
    "assert res == expected"
   ]
  },
  {
   "cell_type": "code",
   "execution_count": null,
   "metadata": {},
   "outputs": [],
   "source": [
    "s = Solution()\n",
    "arr = [1,2,4,5,6,7,0]\n",
    "expected = 0\n",
    "res = s.findMin(arr)\n",
    "print(res)\n",
    "assert res == expected"
   ]
  },
  {
   "cell_type": "code",
   "execution_count": null,
   "metadata": {},
   "outputs": [],
   "source": [
    "s = Solution()\n",
    "arr = [1,2,4,5,6,7]\n",
    "expected = 1\n",
    "res = s.findMin(arr)\n",
    "print(res)\n",
    "assert res == expected"
   ]
  },
  {
   "cell_type": "code",
   "execution_count": null,
   "metadata": {},
   "outputs": [],
   "source": [
    "s = Solution()\n",
    "arr = [1,2]\n",
    "expected = 1\n",
    "res = s.findMin(arr)\n",
    "print(res)\n",
    "assert res == expected"
   ]
  },
  {
   "cell_type": "code",
   "execution_count": null,
   "metadata": {},
   "outputs": [],
   "source": []
  },
  {
   "cell_type": "code",
   "execution_count": null,
   "metadata": {},
   "outputs": [],
   "source": []
  }
 ],
 "metadata": {
  "kernelspec": {
   "display_name": "Python 3",
   "language": "python",
   "name": "python3"
  },
  "language_info": {
   "codemirror_mode": {
    "name": "ipython",
    "version": 3
   },
   "file_extension": ".py",
   "mimetype": "text/x-python",
   "name": "python",
   "nbconvert_exporter": "python",
   "pygments_lexer": "ipython3",
   "version": "3.9.1"
  }
 },
 "nbformat": 4,
 "nbformat_minor": 4
}
