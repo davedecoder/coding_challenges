{
 "cells": [
  {
   "cell_type": "code",
   "execution_count": 10,
   "metadata": {},
   "outputs": [],
   "source": [
    "def zigzag_gen(numRows):\n",
    "    x = 0\n",
    "    while True:\n",
    "        for y in range(numRows):\n",
    "            yield y, x\n",
    "        x += 1\n",
    "        for y in reversed(range(1, numRows - 1)):\n",
    "            yield y, x\n",
    "            x += 1"
   ]
  },
  {
   "cell_type": "code",
   "execution_count": 20,
   "metadata": {},
   "outputs": [],
   "source": [
    "def convert(s: str, numRows: int) -> str:\n",
    "        matrix = [[None for x in range((len(s)))] for y in range(numRows)]\n",
    "        zigzag = zigzag_gen(numRows)\n",
    "        for c in s:\n",
    "            y, x = next(zigzag)\n",
    "            matrix[y][x] = c\n",
    "        res = \"\"\n",
    "        for row in matrix:\n",
    "            for cell in row:\n",
    "                if cell is not None:\n",
    "                    res = res + cell\n",
    "        return res"
   ]
  },
  {
   "cell_type": "code",
   "execution_count": 21,
   "metadata": {},
   "outputs": [
    {
     "name": "stdout",
     "output_type": "stream",
     "text": [
      "PAHNAPLSIIGYIR\n"
     ]
    }
   ],
   "source": [
    "my_string = \"PAYPALISHIRING\"\n",
    "rows = 3\n",
    "output = \"PAHNAPLSIIGYIR\"\n",
    "my_output = convert(my_string, rows)\n",
    "assert my_output == output\n",
    "print(my_output)\n",
    "#print(len(r), len(r), r)"
   ]
  },
  {
   "cell_type": "code",
   "execution_count": 22,
   "metadata": {},
   "outputs": [
    {
     "name": "stdout",
     "output_type": "stream",
     "text": [
      "PINALSIGYAHRPI\n"
     ]
    }
   ],
   "source": [
    "my_string = \"PAYPALISHIRING\"\n",
    "rows = 4\n",
    "output = \"PINALSIGYAHRPI\"\n",
    "my_output = convert(my_string, rows)\n",
    "assert my_output == output\n",
    "print(my_output)"
   ]
  },
  {
   "cell_type": "code",
   "execution_count": 24,
   "metadata": {},
   "outputs": [
    {
     "name": "stdout",
     "output_type": "stream",
     "text": [
      "ABC\n"
     ]
    }
   ],
   "source": [
    "my_string = \"ABC\"\n",
    "rows = 1\n",
    "output = \"ABC\"\n",
    "my_output = convert(my_string, rows)\n",
    "assert my_output == output\n",
    "print(my_output)"
   ]
  },
  {
   "cell_type": "code",
   "execution_count": 26,
   "metadata": {},
   "outputs": [
    {
     "name": "stdout",
     "output_type": "stream",
     "text": [
      "AB\n"
     ]
    }
   ],
   "source": [
    "my_string = \"AB\"\n",
    "rows = 1\n",
    "output = \"AB\"\n",
    "my_output = convert(my_string, rows)\n",
    "assert my_output == output\n",
    "print(my_output)"
   ]
  },
  {
   "cell_type": "code",
   "execution_count": null,
   "metadata": {},
   "outputs": [],
   "source": [
    "for i in reversed(range(4)):\n",
    "    print(i)"
   ]
  },
  {
   "cell_type": "code",
   "execution_count": null,
   "metadata": {},
   "outputs": [],
   "source": [
    "s = 3\n",
    "for y in reversed(range(1, s)):\n",
    "    print(y)"
   ]
  },
  {
   "cell_type": "code",
   "execution_count": null,
   "metadata": {},
   "outputs": [],
   "source": [
    "while s < 10 :\n",
    "    print(s)\n",
    "    s += 1\n",
    "    for a in range(4):\n",
    "        if a % 2:\n",
    "            break"
   ]
  },
  {
   "cell_type": "code",
   "execution_count": 7,
   "metadata": {},
   "outputs": [],
   "source": [
    "def zigzag_gen(numRows):\n",
    "    x = 0\n",
    "    while True:\n",
    "        for y in range(numRows):\n",
    "            yield y, x\n",
    "        x += 1\n",
    "        for y in reversed(range(1, numRows - 1)):\n",
    "            yield y, x\n",
    "            x += 1"
   ]
  },
  {
   "cell_type": "code",
   "execution_count": 17,
   "metadata": {},
   "outputs": [
    {
     "name": "stdout",
     "output_type": "stream",
     "text": [
      "(0, 0)\n",
      "(0, 1)\n",
      "(0, 2)\n"
     ]
    }
   ],
   "source": [
    "s = 14\n",
    "numRows = 1\n",
    "z = zigzag_gen(numRows)\n",
    "for c in range(3):\n",
    "    print(next(z))\n",
    "    "
   ]
  },
  {
   "cell_type": "code",
   "execution_count": 9,
   "metadata": {},
   "outputs": [
    {
     "data": {
      "text/plain": [
       "1"
      ]
     },
     "execution_count": 9,
     "metadata": {},
     "output_type": "execute_result"
    }
   ],
   "source": [
    "3//2"
   ]
  },
  {
   "cell_type": "code",
   "execution_count": 18,
   "metadata": {},
   "outputs": [],
   "source": [
    "matrix = [[None for x in range((3 + 2)//2)] for y in range(numRows)]"
   ]
  },
  {
   "cell_type": "code",
   "execution_count": 19,
   "metadata": {},
   "outputs": [
    {
     "data": {
      "text/plain": [
       "[[None, None]]"
      ]
     },
     "execution_count": 19,
     "metadata": {},
     "output_type": "execute_result"
    }
   ],
   "source": [
    "matrix"
   ]
  },
  {
   "cell_type": "code",
   "execution_count": null,
   "metadata": {},
   "outputs": [],
   "source": []
  }
 ],
 "metadata": {
  "kernelspec": {
   "display_name": "Python 3",
   "language": "python",
   "name": "python3"
  },
  "language_info": {
   "codemirror_mode": {
    "name": "ipython",
    "version": 3
   },
   "file_extension": ".py",
   "mimetype": "text/x-python",
   "name": "python",
   "nbconvert_exporter": "python",
   "pygments_lexer": "ipython3",
   "version": "3.6.9"
  }
 },
 "nbformat": 4,
 "nbformat_minor": 2
}
