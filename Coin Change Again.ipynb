{
 "cells": [
  {
   "cell_type": "code",
   "execution_count": null,
   "metadata": {},
   "outputs": [],
   "source": []
  },
  {
   "cell_type": "code",
   "execution_count": 1,
   "metadata": {},
   "outputs": [],
   "source": [
    "from typing import List"
   ]
  },
  {
   "cell_type": "code",
   "execution_count": 4,
   "metadata": {},
   "outputs": [],
   "source": [
    "amount = 5"
   ]
  },
  {
   "cell_type": "code",
   "execution_count": 10,
   "metadata": {},
   "outputs": [],
   "source": [
    "class Solution:\n",
    "    def coinChange(self, coins: List[int], amount: int) -> int:\n",
    "        rs = [amount] * (amount + 1)\n",
    "        rs[0] = 0\n",
    "        for i in range(1, amount + 1):\n",
    "            for c in coins:\n",
    "                if i >= c:\n",
    "                    rs[i] = min(rs[i], rs[i-c] + 1)\n",
    "        return rs[-1]\n",
    "                    \n",
    "                    "
   ]
  },
  {
   "cell_type": "code",
   "execution_count": 11,
   "metadata": {},
   "outputs": [],
   "source": [
    "s = Solution()\n",
    "coins = [1]\n",
    "amount = 1\n",
    "expected = 1\n",
    "r = s.coinChange(coins, amount)\n",
    "assert r == expected"
   ]
  },
  {
   "cell_type": "code",
   "execution_count": 12,
   "metadata": {},
   "outputs": [],
   "source": [
    "s = Solution()\n",
    "coins = [1]\n",
    "amount = 3\n",
    "expected = 3\n",
    "r = s.coinChange(coins, amount)\n",
    "assert r == expected"
   ]
  },
  {
   "cell_type": "code",
   "execution_count": 13,
   "metadata": {},
   "outputs": [],
   "source": [
    "s = Solution()\n",
    "coins = [1, 2]\n",
    "amount = 3\n",
    "expected = 2\n",
    "r = s.coinChange(coins, amount)\n",
    "assert r == expected"
   ]
  },
  {
   "cell_type": "code",
   "execution_count": 15,
   "metadata": {},
   "outputs": [
    {
     "name": "stdout",
     "output_type": "stream",
     "text": [
      "3\n"
     ]
    }
   ],
   "source": [
    "s = Solution()\n",
    "coins = [1,2,5]\n",
    "amount = 11\n",
    "expected = 3\n",
    "r = s.coinChange(coins, amount)\n",
    "assert r == expected\n",
    "print(r)"
   ]
  },
  {
   "cell_type": "code",
   "execution_count": 18,
   "metadata": {},
   "outputs": [
    {
     "name": "stdout",
     "output_type": "stream",
     "text": [
      "34\n"
     ]
    }
   ],
   "source": [
    "coins = [186,111]\n",
    "amount = 6249\n",
    "s = Solution()\n",
    "expected = 34\n",
    "r = s.coinChange(coins, amount)\n",
    "assert r == expected\n",
    "print(r)\n"
   ]
  },
  {
   "cell_type": "code",
   "execution_count": 20,
   "metadata": {},
   "outputs": [
    {
     "name": "stdout",
     "output_type": "stream",
     "text": [
      "1\n"
     ]
    }
   ],
   "source": [
    "coins = [5,2]\n",
    "amount = 5\n",
    "s = Solution()\n",
    "expected = 1\n",
    "r = s.coinChange(coins, amount)\n",
    "assert r == expected\n",
    "print(r)"
   ]
  },
  {
   "cell_type": "code",
   "execution_count": null,
   "metadata": {},
   "outputs": [],
   "source": []
  }
 ],
 "metadata": {
  "kernelspec": {
   "display_name": "Python 3",
   "language": "python",
   "name": "python3"
  },
  "language_info": {
   "codemirror_mode": {
    "name": "ipython",
    "version": 3
   },
   "file_extension": ".py",
   "mimetype": "text/x-python",
   "name": "python",
   "nbconvert_exporter": "python",
   "pygments_lexer": "ipython3",
   "version": "3.9.1"
  }
 },
 "nbformat": 4,
 "nbformat_minor": 4
}
