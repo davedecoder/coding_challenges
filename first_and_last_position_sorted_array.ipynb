{
 "cells": [
  {
   "cell_type": "code",
   "execution_count": 1,
   "metadata": {},
   "outputs": [],
   "source": [
    "from typing import List"
   ]
  },
  {
   "cell_type": "code",
   "execution_count": 21,
   "metadata": {},
   "outputs": [],
   "source": [
    "class Solution:\n",
    "    def searchRange(self, nums: List[int], target: int) -> List[int]:\n",
    "        res = [-1,-1]\n",
    "        numFound = False\n",
    "        low = 0\n",
    "        high = len(nums) - 1\n",
    "        while low <= high:\n",
    "            mid = low + ((high - low) // 2)\n",
    "            guess = nums[mid]\n",
    "            if guess == target:\n",
    "                numFound = True\n",
    "            if guess > target:\n",
    "                high = mid - 1 \n",
    "            else:\n",
    "                low = mid + 1 \n",
    "        if not numFound:\n",
    "            return res\n",
    "        res[1] = low - 1\n",
    "        low = 0\n",
    "        high = len(nums) - 1\n",
    "        while low <= high:\n",
    "            mid = low + ((high - low) // 2)\n",
    "            guess = nums[mid]\n",
    "            if guess == target:\n",
    "                numFound = True\n",
    "            if guess < target:\n",
    "                low = mid + 1 \n",
    "            else:\n",
    "                high = mid - 1\n",
    "        res[0] = high + 1\n",
    "        return res\n",
    "        \n",
    "        "
   ]
  },
  {
   "cell_type": "code",
   "execution_count": 22,
   "metadata": {},
   "outputs": [],
   "source": [
    "s = Solution()\n",
    "t = 0\n",
    "nums = []\n",
    "expected = [-1, -1]\n",
    "res = s.searchRange(nums, t)\n",
    "assert res == expected"
   ]
  },
  {
   "cell_type": "code",
   "execution_count": 23,
   "metadata": {},
   "outputs": [],
   "source": [
    "s = Solution()\n",
    "t = 0\n",
    "nums = [5]\n",
    "expected = [-1, -1]\n",
    "res = s.searchRange(nums, t)\n",
    "assert res == expected"
   ]
  },
  {
   "cell_type": "code",
   "execution_count": 24,
   "metadata": {},
   "outputs": [
    {
     "name": "stdout",
     "output_type": "stream",
     "text": [
      "[1, 1]\n"
     ]
    }
   ],
   "source": [
    "s = Solution()\n",
    "t = 6\n",
    "nums = [1,6]\n",
    "expected = [1, 1]\n",
    "res = s.searchRange(nums, t)\n",
    "print(res)\n",
    "assert res == expected"
   ]
  },
  {
   "cell_type": "code",
   "execution_count": 25,
   "metadata": {},
   "outputs": [
    {
     "name": "stdout",
     "output_type": "stream",
     "text": [
      "[1, 2]\n"
     ]
    }
   ],
   "source": [
    "s = Solution()\n",
    "t = 6\n",
    "nums = [1,6,6]\n",
    "expected = [1, 2]\n",
    "res = s.searchRange(nums, t)\n",
    "print(res)\n",
    "assert res == expected"
   ]
  },
  {
   "cell_type": "code",
   "execution_count": null,
   "metadata": {},
   "outputs": [],
   "source": []
  }
 ],
 "metadata": {
  "kernelspec": {
   "display_name": "Python 3",
   "language": "python",
   "name": "python3"
  },
  "language_info": {
   "codemirror_mode": {
    "name": "ipython",
    "version": 3
   },
   "file_extension": ".py",
   "mimetype": "text/x-python",
   "name": "python",
   "nbconvert_exporter": "python",
   "pygments_lexer": "ipython3",
   "version": "3.9.1"
  }
 },
 "nbformat": 4,
 "nbformat_minor": 4
}
