{
 "cells": [
  {
   "cell_type": "code",
   "execution_count": 1,
   "metadata": {},
   "outputs": [],
   "source": [
    "from typing import List, Tuple"
   ]
  },
  {
   "cell_type": "code",
   "execution_count": 2,
   "metadata": {},
   "outputs": [],
   "source": [
    "test_nodes = [\n",
    "    (\"A\", \"C\"),\n",
    "    (\"A\", \"B\"),\n",
    "    (\"A\", \"O\"),\n",
    "    (\"A\", \"M\"),\n",
    "    (\"A\", \"N\"),\n",
    "    (\"B\", \"C\"),\n",
    "    (\"B\", \"D\"),\n",
    "    (\"B\", \"O\"),\n",
    "    (\"C\", \"D\"),\n",
    "    (\"E\", \"F\"),\n",
    "    (\"E\", \"H\"),\n",
    "    (\"E\", \"G\"),\n",
    "    (\"F\", \"G\"),\n",
    "    (\"F\", \"H\"),\n",
    "    (\"G\", \"H\"),\n",
    "    (\"G\", \"I\"),\n",
    "    (\"I\", \"J\"),\n",
    "    (\"I\", \"K\"),\n",
    "    (\"J\", \"K\"),\n",
    "    (\"J\", \"L\"),\n",
    "    (\"J\", \"A\"),\n",
    "    (\"B\", \"J\"),\n",
    "    (\"K\", \"L\"),\n",
    "    (\"K\", \"M\"),\n",
    "    (\"M\", \"N\"),\n",
    "    (\"M\", \"O\"),\n",
    "    (\"M\", \"G\"),\n",
    "    (\"E\", \"N\"),\n",
    "]"
   ]
  },
  {
   "cell_type": "code",
   "execution_count": 75,
   "metadata": {},
   "outputs": [],
   "source": [
    "class MatrixCreator:\n",
    "    \n",
    "    def __init__(self):\n",
    "        self.nodes = []\n",
    "        self.nodes_map = {}\n",
    "        self.adjacent_matrix = []\n",
    "        \n",
    "    def unpack_nodes(self, adjacent_list: Tuple[str, str]):\n",
    "        n = len(adjacent_list) * 2\n",
    "        for a, b in adjacent_list:\n",
    "            if not self.nodes_map.get(a):\n",
    "                self.nodes_map[a] = n\n",
    "                self.nodes.append(a)\n",
    "            if not self.nodes_map.get(b):\n",
    "                self.nodes_map[b] = n\n",
    "                self.nodes.append(b)\n",
    "                \n",
    "    def map_nodes_order(self):\n",
    "        for i, node in enumerate(self.nodes):\n",
    "            self.nodes_map[node] = i\n",
    "            \n",
    "    def instane_matrix(self):\n",
    "        for i in self.nodes:\n",
    "            row = []\n",
    "            for j in self.nodes:\n",
    "                row.append(0)\n",
    "            self.adjacent_matrix.append(row)\n",
    "            \n",
    "    def complete_matrix(self, adjacent_list: Tuple[str, str]):\n",
    "        for a, b in adjacent_list:\n",
    "            a_idx = self.nodes_map.get(a)\n",
    "            b_idx = self.nodes_map.get(b)\n",
    "            self.adjacent_matrix[a_idx][b_idx] = 1\n",
    "            self.adjacent_matrix[b_idx][a_idx] = 1\n",
    "            \n",
    "    \n",
    "    def print_matrix(self):\n",
    "        labels = '  '.join(self.nodes)\n",
    "        print(\"  \", labels)\n",
    "        for i, row in enumerate(self.adjacent_matrix):\n",
    "            print(self.nodes[i], row)\n",
    "                \n",
    "                \n",
    "        \n",
    "    def build_nodes(self, adjacent_list: Tuple[str, str]):\n",
    "        self.unpack_nodes(adjacent_list)\n",
    "        self.nodes.sort()\n",
    "        self.map_nodes_order()\n",
    "        self.instane_matrix()\n",
    "        self.complete_matrix(adjacent_list)\n",
    "        "
   ]
  },
  {
   "cell_type": "code",
   "execution_count": 76,
   "metadata": {},
   "outputs": [],
   "source": [
    "mc = MatrixCreator()\n",
    "mc.build_nodes(test_nodes)"
   ]
  },
  {
   "cell_type": "code",
   "execution_count": 77,
   "metadata": {},
   "outputs": [
    {
     "name": "stdout",
     "output_type": "stream",
     "text": [
      "   A  B  C  D  E  F  G  H  I  J  K  L  M  N  O\n",
      "A [0, 1, 1, 0, 0, 0, 0, 0, 0, 1, 0, 0, 1, 1, 1]\n",
      "B [1, 0, 1, 1, 0, 0, 0, 0, 0, 1, 0, 0, 0, 0, 1]\n",
      "C [1, 1, 0, 1, 0, 0, 0, 0, 0, 0, 0, 0, 0, 0, 0]\n",
      "D [0, 1, 1, 0, 0, 0, 0, 0, 0, 0, 0, 0, 0, 0, 0]\n",
      "E [0, 0, 0, 0, 0, 1, 1, 1, 0, 0, 0, 0, 0, 1, 0]\n",
      "F [0, 0, 0, 0, 1, 0, 1, 1, 0, 0, 0, 0, 0, 0, 0]\n",
      "G [0, 0, 0, 0, 1, 1, 0, 1, 1, 0, 0, 0, 1, 0, 0]\n",
      "H [0, 0, 0, 0, 1, 1, 1, 0, 0, 0, 0, 0, 0, 0, 0]\n",
      "I [0, 0, 0, 0, 0, 0, 1, 0, 0, 1, 1, 0, 0, 0, 0]\n",
      "J [1, 1, 0, 0, 0, 0, 0, 0, 1, 0, 1, 1, 0, 0, 0]\n",
      "K [0, 0, 0, 0, 0, 0, 0, 0, 1, 1, 0, 1, 1, 0, 0]\n",
      "L [0, 0, 0, 0, 0, 0, 0, 0, 0, 1, 1, 0, 0, 0, 0]\n",
      "M [1, 0, 0, 0, 0, 0, 1, 0, 0, 0, 1, 0, 0, 1, 1]\n",
      "N [1, 0, 0, 0, 1, 0, 0, 0, 0, 0, 0, 0, 1, 0, 0]\n",
      "O [1, 1, 0, 0, 0, 0, 0, 0, 0, 0, 0, 0, 1, 0, 0]\n"
     ]
    }
   ],
   "source": [
    "mc.print_matrix()"
   ]
  },
  {
   "cell_type": "code",
   "execution_count": 54,
   "metadata": {},
   "outputs": [
    {
     "name": "stdout",
     "output_type": "stream",
     "text": [
      "['A', 'B', 'C', 'D', 'E', 'F', 'G', 'H', 'I', 'J', 'K', 'L', 'M', 'N', 'O']\n"
     ]
    }
   ],
   "source": [
    "print(mc.nodes)"
   ]
  },
  {
   "cell_type": "code",
   "execution_count": 55,
   "metadata": {},
   "outputs": [
    {
     "name": "stdout",
     "output_type": "stream",
     "text": [
      "{'A': 0, 'C': 2, 'B': 1, 'O': 14, 'M': 12, 'N': 13, 'D': 3, 'E': 4, 'F': 5, 'H': 7, 'G': 6, 'I': 8, 'J': 9, 'K': 10, 'L': 11}\n"
     ]
    }
   ],
   "source": [
    "print(mc.nodes_map)"
   ]
  },
  {
   "cell_type": "code",
   "execution_count": 56,
   "metadata": {},
   "outputs": [
    {
     "name": "stdout",
     "output_type": "stream",
     "text": [
      "[[0, 1, 1, 0, 0, 0, 0, 0, 0, 0, 0, 0, 1, 1, 1], [0, 0, 1, 1, 0, 0, 0, 0, 0, 1, 0, 0, 0, 0, 1], [0, 0, 0, 1, 0, 0, 0, 0, 0, 0, 0, 0, 0, 0, 0], [0, 0, 0, 0, 0, 0, 0, 0, 0, 0, 0, 0, 0, 0, 0], [0, 0, 0, 0, 0, 1, 1, 1, 0, 0, 0, 0, 0, 1, 0], [0, 0, 0, 0, 0, 0, 1, 1, 0, 0, 0, 0, 0, 0, 0], [0, 0, 0, 0, 0, 0, 0, 1, 1, 0, 0, 0, 0, 0, 0], [0, 0, 0, 0, 0, 0, 0, 0, 0, 0, 0, 0, 0, 0, 0], [0, 0, 0, 0, 0, 0, 0, 0, 0, 1, 1, 0, 0, 0, 0], [1, 0, 0, 0, 0, 0, 0, 0, 0, 0, 1, 1, 0, 0, 0], [0, 0, 0, 0, 0, 0, 0, 0, 0, 0, 0, 1, 1, 0, 0], [0, 0, 0, 0, 0, 0, 0, 0, 0, 0, 0, 0, 0, 0, 0], [0, 0, 0, 0, 0, 0, 1, 0, 0, 0, 0, 0, 0, 1, 1], [0, 0, 0, 0, 0, 0, 0, 0, 0, 0, 0, 0, 0, 0, 0], [0, 0, 0, 0, 0, 0, 0, 0, 0, 0, 0, 0, 0, 0, 0]]\n"
     ]
    }
   ],
   "source": [
    "print(mc.adjacent_matrix)"
   ]
  },
  {
   "cell_type": "code",
   "execution_count": null,
   "metadata": {},
   "outputs": [],
   "source": []
  }
 ],
 "metadata": {
  "kernelspec": {
   "display_name": "Python 3",
   "language": "python",
   "name": "python3"
  },
  "language_info": {
   "codemirror_mode": {
    "name": "ipython",
    "version": 3
   },
   "file_extension": ".py",
   "mimetype": "text/x-python",
   "name": "python",
   "nbconvert_exporter": "python",
   "pygments_lexer": "ipython3",
   "version": "3.9.1"
  }
 },
 "nbformat": 4,
 "nbformat_minor": 4
}
