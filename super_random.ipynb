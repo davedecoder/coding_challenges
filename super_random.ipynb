{
 "cells": [
  {
   "cell_type": "code",
   "execution_count": 1,
   "metadata": {
    "scrolled": true
   },
   "outputs": [
    {
     "name": "stderr",
     "output_type": "stream",
     "text": [
      "<ipython-input-1-b2bd96bee297>:2: FutureWarning: pandas.util.testing is deprecated. Use the functions in the public API at pandas.testing instead.\n",
      "  import pandas.util.testing as tm\n"
     ]
    }
   ],
   "source": [
    "import pandas as pd\n",
    "import pandas.util.testing as tm\n",
    "import os"
   ]
  },
  {
   "cell_type": "code",
   "execution_count": 2,
   "metadata": {
    "scrolled": true
   },
   "outputs": [],
   "source": [
    "df_1 = tm.makeTimeDataFrame(freq='M')"
   ]
  },
  {
   "cell_type": "code",
   "execution_count": 3,
   "metadata": {},
   "outputs": [],
   "source": [
    "df_2 = tm.makeTimeDataFrame()"
   ]
  },
  {
   "cell_type": "code",
   "execution_count": 4,
   "metadata": {},
   "outputs": [],
   "source": [
    "df = pd.concat([df_1, df_2])"
   ]
  },
  {
   "cell_type": "code",
   "execution_count": 5,
   "metadata": {},
   "outputs": [],
   "source": [
    "def write_to_csv(df, csv_out_path, rows_chunksize=0, **kwargs):\n",
    "    assert isinstance(df, pd.DataFrame), \"Not a valid Pandas DataFrame\"\n",
    "    assert len(csv_out_path), \"Not a Valid Name\"\n",
    "    if rows_chunksize and not df.empty:\n",
    "        marker = 0\n",
    "        file_num = 0\n",
    "        file_name, file_extension = os.path.splitext(csv_out_path) \n",
    "        while True:\n",
    "            data = df.iloc[marker:marker + rows_chunksize]\n",
    "            if data.empty:\n",
    "                break\n",
    "            marker += rows_chunksize\n",
    "            file_num += 1\n",
    "            csv_out_path_partition = f\"{file_name}_{file_num}{file_extension}\"\n",
    "            data.to_csv(csv_out_path_partition, **kwargs)\n",
    "    else:\n",
    "        df.to_csv(csv_out_path, **kwargs)\n",
    "    "
   ]
  },
  {
   "cell_type": "code",
   "execution_count": 6,
   "metadata": {},
   "outputs": [],
   "source": [
    "# test_1\n",
    "csv_out_path = 'my_new-file.csv'\n",
    "fs = ';'\n",
    "write_to_csv(df, csv_out_path, index=False, sep=fs)"
   ]
  },
  {
   "cell_type": "code",
   "execution_count": 7,
   "metadata": {},
   "outputs": [],
   "source": [
    "# test_2\n",
    "csv_out_path = 'my_new-file_2.csv'\n",
    "fs = ','\n",
    "write_to_csv(pd.DataFrame(), csv_out_path, rows_chunksize=1, index=False, sep=fs)"
   ]
  },
  {
   "cell_type": "code",
   "execution_count": 8,
   "metadata": {},
   "outputs": [],
   "source": [
    "# test_3\n",
    "csv_out_path = 'my_new-file_3.csv'\n",
    "fs = ','\n",
    "write_to_csv(df, csv_out_path, rows_chunksize=30, index=False, sep=fs)"
   ]
  },
  {
   "cell_type": "code",
   "execution_count": 9,
   "metadata": {},
   "outputs": [],
   "source": [
    "# test_4\n",
    "csv_out_path = 'my_new-file_4.csv'\n",
    "fs = ';'\n",
    "write_to_csv(df, csv_out_path, rows_chunksize=50, index=False, sep=fs)"
   ]
  },
  {
   "cell_type": "code",
   "execution_count": 10,
   "metadata": {},
   "outputs": [],
   "source": [
    "# test_4\n",
    "csv_out_path = 'my_new-file_5.csv'\n",
    "fs = ';'\n",
    "write_to_csv(df, csv_out_path, rows_chunksize=500, index=False, sep=fs)"
   ]
  },
  {
   "cell_type": "code",
   "execution_count": null,
   "metadata": {},
   "outputs": [],
   "source": [
    "def chunker(da_list, chunksize):\n",
    "    marker = 0\n",
    "    full_data = []\n",
    "    data_chunks = []\n",
    "    while True:\n",
    "        data = da_list[marker:marker + chunksize]\n",
    "        if not data:\n",
    "            break\n",
    "        marker += chunksize\n",
    "        data_chunks.append(data)\n",
    "    return data_chunks"
   ]
  },
  {
   "cell_type": "code",
   "execution_count": null,
   "metadata": {},
   "outputs": [],
   "source": [
    "my_list = list(range(0,10))\n",
    "rows_chunksize = 1\n",
    "result = chunker(my_list, rows_chunksize)\n",
    "print(result)\n",
    "assert len(result) == 10"
   ]
  },
  {
   "cell_type": "code",
   "execution_count": null,
   "metadata": {},
   "outputs": [],
   "source": [
    "my_list = list(range(0,10))\n",
    "rows_chunksize = 9\n",
    "result = chunker(my_list, rows_chunksize)\n",
    "print(result)\n",
    "assert len(result) == 2"
   ]
  },
  {
   "cell_type": "code",
   "execution_count": null,
   "metadata": {},
   "outputs": [],
   "source": [
    "my_list = list(range(0,10))\n",
    "rows_chunksize = 3\n",
    "result = chunker(my_list, rows_chunksize)\n",
    "print(result)\n",
    "assert len(result) == 4"
   ]
  },
  {
   "cell_type": "code",
   "execution_count": null,
   "metadata": {},
   "outputs": [],
   "source": [
    "my_list = list(range(0,10))\n",
    "rows_chunksize = 11\n",
    "result = chunker(my_list, rows_chunksize)\n",
    "print(result)\n",
    "assert len(result) == 1"
   ]
  },
  {
   "cell_type": "code",
   "execution_count": null,
   "metadata": {},
   "outputs": [],
   "source": [
    "my_list = []\n",
    "rows_chunksize = 9\n",
    "result = chunker(my_list, rows_chunksize)\n",
    "print(result)\n",
    "assert len(result) == 0"
   ]
  },
  {
   "cell_type": "code",
   "execution_count": null,
   "metadata": {},
   "outputs": [],
   "source": [
    "my_list = list(range(0,10))\n",
    "rows_chunksize = 0\n",
    "result = chunker(my_list, rows_chunksize)\n",
    "print(result)\n",
    "assert len(result) == 0"
   ]
  },
  {
   "cell_type": "code",
   "execution_count": null,
   "metadata": {},
   "outputs": [],
   "source": [
    "i = int(2e5)"
   ]
  },
  {
   "cell_type": "code",
   "execution_count": null,
   "metadata": {},
   "outputs": [],
   "source": [
    "i"
   ]
  },
  {
   "cell_type": "code",
   "execution_count": 11,
   "metadata": {},
   "outputs": [],
   "source": [
    "import random"
   ]
  },
  {
   "cell_type": "code",
   "execution_count": 12,
   "metadata": {},
   "outputs": [
    {
     "name": "stdout",
     "output_type": "stream",
     "text": [
      "3\n"
     ]
    }
   ],
   "source": [
    "print(random.randint(1,5))"
   ]
  },
  {
   "cell_type": "code",
   "execution_count": 13,
   "metadata": {},
   "outputs": [],
   "source": [
    "my_dict = {1: \"a\", 2: \"b\"}"
   ]
  },
  {
   "cell_type": "code",
   "execution_count": 14,
   "metadata": {},
   "outputs": [
    {
     "data": {
      "text/plain": [
       "{1: 'a', 2: 'b'}"
      ]
     },
     "execution_count": 14,
     "metadata": {},
     "output_type": "execute_result"
    }
   ],
   "source": [
    "my_dict"
   ]
  },
  {
   "cell_type": "code",
   "execution_count": 15,
   "metadata": {},
   "outputs": [
    {
     "data": {
      "text/plain": [
       "\"{1: 'a', 2: 'b'}\""
      ]
     },
     "execution_count": 15,
     "metadata": {},
     "output_type": "execute_result"
    }
   ],
   "source": [
    "str(my_dict)"
   ]
  },
  {
   "cell_type": "code",
   "execution_count": 16,
   "metadata": {},
   "outputs": [],
   "source": [
    "import json"
   ]
  },
  {
   "cell_type": "code",
   "execution_count": 19,
   "metadata": {},
   "outputs": [
    {
     "data": {
      "text/plain": [
       "'{\"1\": \"a\", \"2\": \"b\"}'"
      ]
     },
     "execution_count": 19,
     "metadata": {},
     "output_type": "execute_result"
    }
   ],
   "source": [
    "json.dumps(my_dict)"
   ]
  },
  {
   "cell_type": "code",
   "execution_count": null,
   "metadata": {},
   "outputs": [],
   "source": []
  }
 ],
 "metadata": {
  "kernelspec": {
   "display_name": "Python 3",
   "language": "python",
   "name": "python3"
  },
  "language_info": {
   "codemirror_mode": {
    "name": "ipython",
    "version": 3
   },
   "file_extension": ".py",
   "mimetype": "text/x-python",
   "name": "python",
   "nbconvert_exporter": "python",
   "pygments_lexer": "ipython3",
   "version": "3.9.1"
  }
 },
 "nbformat": 4,
 "nbformat_minor": 4
}
