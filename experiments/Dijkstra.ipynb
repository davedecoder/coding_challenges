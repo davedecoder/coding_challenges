{
 "cells": [
  {
   "cell_type": "code",
   "execution_count": 1,
   "metadata": {},
   "outputs": [],
   "source": [
    "import numpy as np"
   ]
  },
  {
   "cell_type": "code",
   "execution_count": 2,
   "metadata": {},
   "outputs": [
    {
     "data": {
      "text/plain": [
       "array([[ 35, 132],\n",
       "       [ 47, 170]])"
      ]
     },
     "execution_count": 2,
     "metadata": {},
     "output_type": "execute_result"
    }
   ],
   "source": [
    "ar_1 = np.array([[1,2,7], [3,4,8]])\n",
    "ar_2 = np.array([[1,2], [3,9], [4,16]])\n",
    "np.dot(ar_1, ar_2 )"
   ]
  },
  {
   "cell_type": "code",
   "execution_count": 1,
   "metadata": {},
   "outputs": [],
   "source": [
    "import sys\n",
    " \n",
    "class Graph(object):\n",
    "    def __init__(self, nodes, init_graph):\n",
    "        self.nodes = nodes\n",
    "        self.graph = self.construct_graph(nodes, init_graph)\n",
    "        \n",
    "    def construct_graph(self, nodes, init_graph):\n",
    "        '''\n",
    "        This method makes sure that the graph is symmetrical. In other words, if there's a path from node A to B with a value V, there needs to be a path from node B to node A with a value V.\n",
    "        '''\n",
    "        graph = {}\n",
    "        for node in nodes:\n",
    "            graph[node] = {}\n",
    "        \n",
    "        graph.update(init_graph)\n",
    "        \n",
    "        for node, edges in graph.items():\n",
    "            for adjacent_node, value in edges.items():\n",
    "                if graph[adjacent_node].get(node, False) == False:\n",
    "                    graph[adjacent_node][node] = value\n",
    "                    \n",
    "        return graph\n",
    "    \n",
    "    def get_nodes(self):\n",
    "        \"Returns the nodes of the graph.\"\n",
    "        return self.nodes\n",
    "    \n",
    "    def get_outgoing_edges(self, node):\n",
    "        \"Returns the neighbors of a node.\"\n",
    "        connections = []\n",
    "        for out_node in self.nodes:\n",
    "            if self.graph[node].get(out_node, False) != False:\n",
    "                connections.append(out_node)\n",
    "        return connections\n",
    "    \n",
    "    def value(self, node1, node2):\n",
    "        \"Returns the value of an edge between two nodes.\"\n",
    "        return self.graph[node1][node2]"
   ]
  },
  {
   "cell_type": "code",
   "execution_count": 2,
   "metadata": {},
   "outputs": [],
   "source": [
    "nodes = [\"Reykjavik\", \"Oslo\", \"Moscow\", \"London\", \"Rome\", \"Berlin\", \"Belgrade\", \"Athens\"]\n",
    " \n",
    "init_graph = {}\n",
    "for node in nodes:\n",
    "    init_graph[node] = {}\n",
    "    \n",
    "init_graph[\"Reykjavik\"][\"Oslo\"] = 5\n",
    "init_graph[\"Reykjavik\"][\"London\"] = 4\n",
    "init_graph[\"Oslo\"][\"Berlin\"] = 1\n",
    "init_graph[\"Oslo\"][\"Moscow\"] = 3\n",
    "init_graph[\"Moscow\"][\"Belgrade\"] = 5\n",
    "init_graph[\"Moscow\"][\"Athens\"] = 4\n",
    "init_graph[\"Athens\"][\"Belgrade\"] = 1\n",
    "init_graph[\"Rome\"][\"Berlin\"] = 2\n",
    "init_graph[\"Rome\"][\"Athens\"] = 2"
   ]
  },
  {
   "cell_type": "code",
   "execution_count": 3,
   "metadata": {},
   "outputs": [
    {
     "data": {
      "text/plain": [
       "{'Reykjavik': {'Oslo': 5, 'London': 4},\n",
       " 'Oslo': {'Berlin': 1, 'Moscow': 3},\n",
       " 'Moscow': {'Belgrade': 5, 'Athens': 4},\n",
       " 'London': {},\n",
       " 'Rome': {'Berlin': 2, 'Athens': 2},\n",
       " 'Berlin': {},\n",
       " 'Belgrade': {},\n",
       " 'Athens': {'Belgrade': 1}}"
      ]
     },
     "execution_count": 3,
     "metadata": {},
     "output_type": "execute_result"
    }
   ],
   "source": [
    "init_graph"
   ]
  },
  {
   "cell_type": "code",
   "execution_count": 4,
   "metadata": {},
   "outputs": [],
   "source": [
    "graph = Graph(nodes, init_graph)"
   ]
  },
  {
   "cell_type": "code",
   "execution_count": 5,
   "metadata": {},
   "outputs": [
    {
     "data": {
      "text/plain": [
       "{'Reykjavik': {'Oslo': 5, 'London': 4},\n",
       " 'Oslo': {'Berlin': 1, 'Moscow': 3, 'Reykjavik': 5},\n",
       " 'Moscow': {'Belgrade': 5, 'Athens': 4, 'Oslo': 3},\n",
       " 'London': {'Reykjavik': 4},\n",
       " 'Rome': {'Berlin': 2, 'Athens': 2},\n",
       " 'Berlin': {'Oslo': 1, 'Rome': 2},\n",
       " 'Belgrade': {'Moscow': 5, 'Athens': 1},\n",
       " 'Athens': {'Belgrade': 1, 'Moscow': 4, 'Rome': 2}}"
      ]
     },
     "execution_count": 5,
     "metadata": {},
     "output_type": "execute_result"
    }
   ],
   "source": [
    "graph.graph"
   ]
  },
  {
   "cell_type": "code",
   "execution_count": null,
   "metadata": {},
   "outputs": [],
   "source": []
  }
 ],
 "metadata": {
  "kernelspec": {
   "display_name": "Python 3",
   "language": "python",
   "name": "python3"
  },
  "language_info": {
   "codemirror_mode": {
    "name": "ipython",
    "version": 3
   },
   "file_extension": ".py",
   "mimetype": "text/x-python",
   "name": "python",
   "nbconvert_exporter": "python",
   "pygments_lexer": "ipython3",
   "version": "3.9.1"
  }
 },
 "nbformat": 4,
 "nbformat_minor": 4
}
