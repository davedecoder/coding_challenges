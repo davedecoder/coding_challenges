{
 "cells": [
  {
   "cell_type": "markdown",
   "metadata": {},
   "source": [
    "Compute the mean absolute error for the following line and points:\n",
    "\n",
    "line: y = 1.2x + 2\n",
    "\n",
    "points: (2, -2), (5, 6), (-4, -4), (-7, 1), (8, 14)"
   ]
  },
  {
   "cell_type": "code",
   "execution_count": 2,
   "metadata": {},
   "outputs": [],
   "source": [
    "points = [(2, -2), (5, 6), (-4, -4), (-7, 1), (8, 14)]\n",
    "m = len(points)\n",
    "s = 0\n",
    "for i, p in enumerate(points):\n",
    "    p_x = p[0]\n",
    "    p_y = p[1]\n",
    "    y_hat = (1.2 * p_x) + 2\n",
    "    s += abs(p_y - y_hat)\n",
    "res = s/m"
   ]
  },
  {
   "cell_type": "code",
   "execution_count": 3,
   "metadata": {},
   "outputs": [
    {
     "data": {
      "text/plain": [
       "3.88"
      ]
     },
     "execution_count": 3,
     "metadata": {},
     "output_type": "execute_result"
    }
   ],
   "source": [
    "res"
   ]
  },
  {
   "cell_type": "markdown",
   "metadata": {},
   "source": [
    "Compute the mean squared error for the following line and points:\n",
    "\n",
    "line: y = 1.2x + 2\n",
    "\n",
    "points: (2, -2), (5, 6), (-4, -4), (-7, 1), (8, 14)"
   ]
  },
  {
   "cell_type": "code",
   "execution_count": 17,
   "metadata": {},
   "outputs": [],
   "source": [
    "points = [(2, -2), (5, 6), (-4, -4), (-7, 1), (8, 14)]\n",
    "m = len(points)\n",
    "s = 0\n",
    "for i, p in enumerate(points):\n",
    "    p_x = p[0]\n",
    "    p_y = p[1]\n",
    "    y_hat = (1.2 * p_x) + 2\n",
    "    s += pow((p_y - y_hat), 2)\n",
    "res = s/(2*m)"
   ]
  },
  {
   "cell_type": "code",
   "execution_count": 18,
   "metadata": {},
   "outputs": [
    {
     "data": {
      "text/plain": [
       "10.692000000000002"
      ]
     },
     "execution_count": 18,
     "metadata": {},
     "output_type": "execute_result"
    }
   ],
   "source": [
    "res"
   ]
  },
  {
   "cell_type": "code",
   "execution_count": null,
   "metadata": {},
   "outputs": [],
   "source": []
  }
 ],
 "metadata": {
  "kernelspec": {
   "display_name": "Python 3",
   "language": "python",
   "name": "python3"
  },
  "language_info": {
   "codemirror_mode": {
    "name": "ipython",
    "version": 3
   },
   "file_extension": ".py",
   "mimetype": "text/x-python",
   "name": "python",
   "nbconvert_exporter": "python",
   "pygments_lexer": "ipython3",
   "version": "3.9.1"
  }
 },
 "nbformat": 4,
 "nbformat_minor": 4
}
