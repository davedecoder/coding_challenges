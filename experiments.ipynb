{
 "cells": [
  {
   "cell_type": "code",
   "execution_count": 1,
   "metadata": {},
   "outputs": [],
   "source": [
    "from pprint import pprint"
   ]
  },
  {
   "cell_type": "code",
   "execution_count": 14,
   "metadata": {},
   "outputs": [
    {
     "ename": "TypeError",
     "evalue": "string indices must be integers",
     "output_type": "error",
     "traceback": [
      "\u001b[0;31m---------------------------------------------------------------------------\u001b[0m",
      "\u001b[0;31mTypeError\u001b[0m                                 Traceback (most recent call last)",
      "\u001b[0;32m<ipython-input-14-beae62d0018b>\u001b[0m in \u001b[0;36m<module>\u001b[0;34m\u001b[0m\n\u001b[1;32m     63\u001b[0m \u001b[0;34m\u001b[0m\u001b[0m\n\u001b[1;32m     64\u001b[0m \u001b[0;32mfor\u001b[0m \u001b[0minput_structure\u001b[0m \u001b[0;32min\u001b[0m \u001b[0minputs\u001b[0m\u001b[0;34m:\u001b[0m\u001b[0;34m\u001b[0m\u001b[0;34m\u001b[0m\u001b[0m\n\u001b[0;32m---> 65\u001b[0;31m     \u001b[0minitial_transformed\u001b[0m \u001b[0;34m=\u001b[0m \u001b[0minitial_transform\u001b[0m\u001b[0;34m(\u001b[0m\u001b[0minput_structure\u001b[0m\u001b[0;34m)\u001b[0m\u001b[0;34m\u001b[0m\u001b[0;34m\u001b[0m\u001b[0m\n\u001b[0m\u001b[1;32m     66\u001b[0m     \u001b[0mfinal_transformed\u001b[0m \u001b[0;34m=\u001b[0m \u001b[0mfinal_transform\u001b[0m\u001b[0;34m(\u001b[0m\u001b[0minitial_transformed\u001b[0m\u001b[0;34m)\u001b[0m\u001b[0;34m\u001b[0m\u001b[0;34m\u001b[0m\u001b[0m\n\u001b[1;32m     67\u001b[0m     \u001b[0mprint\u001b[0m\u001b[0;34m(\u001b[0m\u001b[0mfinal_transformed\u001b[0m\u001b[0;34m)\u001b[0m\u001b[0;34m\u001b[0m\u001b[0;34m\u001b[0m\u001b[0m\n",
      "\u001b[0;32m<ipython-input-14-beae62d0018b>\u001b[0m in \u001b[0;36minitial_transform\u001b[0;34m(data)\u001b[0m\n\u001b[1;32m      6\u001b[0m         \u001b[0;32mif\u001b[0m \u001b[0mtype\u001b[0m\u001b[0;34m(\u001b[0m\u001b[0mdata\u001b[0m\u001b[0;34m[\u001b[0m\u001b[0mitem\u001b[0m\u001b[0;34m]\u001b[0m\u001b[0;34m)\u001b[0m \u001b[0;32mis\u001b[0m \u001b[0mdict\u001b[0m\u001b[0;34m:\u001b[0m\u001b[0;34m\u001b[0m\u001b[0;34m\u001b[0m\u001b[0m\n\u001b[1;32m      7\u001b[0m             \u001b[0;32mfor\u001b[0m \u001b[0mkey\u001b[0m\u001b[0;34m,\u001b[0m \u001b[0m_\u001b[0m \u001b[0;32min\u001b[0m \u001b[0mdata\u001b[0m\u001b[0;34m[\u001b[0m\u001b[0mitem\u001b[0m\u001b[0;34m]\u001b[0m\u001b[0;34m.\u001b[0m\u001b[0mitems\u001b[0m\u001b[0;34m(\u001b[0m\u001b[0;34m)\u001b[0m\u001b[0;34m:\u001b[0m\u001b[0;34m\u001b[0m\u001b[0;34m\u001b[0m\u001b[0m\n\u001b[0;32m----> 8\u001b[0;31m                 \u001b[0mdata\u001b[0m\u001b[0;34m[\u001b[0m\u001b[0mkey\u001b[0m\u001b[0;34m]\u001b[0m \u001b[0;34m=\u001b[0m \u001b[0mitem\u001b[0m\u001b[0;34m[\u001b[0m\u001b[0mkey\u001b[0m\u001b[0;34m]\u001b[0m\u001b[0;34m\u001b[0m\u001b[0;34m\u001b[0m\u001b[0m\n\u001b[0m\u001b[1;32m      9\u001b[0m \u001b[0;34m\u001b[0m\u001b[0m\n\u001b[1;32m     10\u001b[0m     \u001b[0;32mreturn\u001b[0m \u001b[0mdata\u001b[0m\u001b[0;34m\u001b[0m\u001b[0;34m\u001b[0m\u001b[0m\n",
      "\u001b[0;31mTypeError\u001b[0m: string indices must be integers"
     ]
    }
   ],
   "source": [
    "def initial_transform(data):\n",
    "    \"\"\"\n",
    "    Flatten nested dicts\n",
    "    \"\"\"\n",
    "    for item in list(data):\n",
    "        if type(data[item]) is dict:\n",
    "            for key, _ in lisdata[item].items():\n",
    "                data[key] = item[key]\n",
    "\n",
    "    return data\n",
    "\n",
    "\n",
    "def final_transform(transformed_data):\n",
    "    \"\"\"\n",
    "    Transform address structures into a single structure\n",
    "    \"\"\"\n",
    "    transformed_data['address'] = str.format(\n",
    "        \"{0}\\n{1}, {2} {3}\", transformed_data['street'], \n",
    "        transformed_data['state'], transformed_data['city'], \n",
    "        transformed_data['zip'])\n",
    "\n",
    "    return transformed_data\n",
    "\n",
    "\n",
    "def print_person(person_data):\n",
    "    parents = \"and\".join(person_data['parents'])\n",
    "    siblings = \"and\".join(person_data['siblings'])\n",
    "    person_string = str.format(\n",
    "        \"Hello, my name is {0}, my siblings are {1}, \"\n",
    "        \"my parents are {2}, and my mailing\"\n",
    "        \"address is: \\n{3}\", person_data['name'], \n",
    "        parents, siblings, person_data['address'])\n",
    "    print(person_string)\n",
    "\n",
    "\n",
    "john_data = {\n",
    "    'name': 'John Q. Public',\n",
    "    'street': '123 Main St.',\n",
    "    'city': 'Anytown',\n",
    "    'state': 'FL',\n",
    "    'zip': 99999,\n",
    "    'relationships': {\n",
    "        'siblings': ['Michael R. Public', 'Suzy Q. Public'],\n",
    "        'parents': ['John Q. Public Sr.', 'Mary S. Public'],\n",
    "    }\n",
    "}\n",
    "\n",
    "suzy_data = {\n",
    "    'name': 'Suzy Q. Public',\n",
    "    'street': '456 Broadway',\n",
    "    'apt': '333',\n",
    "    'city': 'Miami',\n",
    "    'state': 'FL',\n",
    "    'zip': 33333,\n",
    "    'relationships': {\n",
    "        'siblings': ['John Q. Public', 'Michael R. Public', \n",
    "                    'Thomas Z. Public'],\n",
    "        'parents': ['John Q. Public Sr.', 'Mary S. Public'],\n",
    "    }\n",
    "}\n",
    "\n",
    "inputs = [john_data, suzy_data]\n",
    "\n",
    "for input_structure in inputs:\n",
    "    initial_transformed = initial_transform(input_structure)\n",
    "    final_transformed = final_transform(initial_transformed)\n",
    "    print(final_transformed)\n",
    "    print(len(final_transformed))\n",
    "    # print_person(final_transformed)"
   ]
  },
  {
   "cell_type": "code",
   "execution_count": null,
   "metadata": {},
   "outputs": [],
   "source": []
  },
  {
   "cell_type": "code",
   "execution_count": null,
   "metadata": {},
   "outputs": [],
   "source": []
  }
 ],
 "metadata": {
  "kernelspec": {
   "display_name": "Python 3",
   "language": "python",
   "name": "python3"
  },
  "language_info": {
   "codemirror_mode": {
    "name": "ipython",
    "version": 3
   },
   "file_extension": ".py",
   "mimetype": "text/x-python",
   "name": "python",
   "nbconvert_exporter": "python",
   "pygments_lexer": "ipython3",
   "version": "3.9.1"
  }
 },
 "nbformat": 4,
 "nbformat_minor": 4
}
