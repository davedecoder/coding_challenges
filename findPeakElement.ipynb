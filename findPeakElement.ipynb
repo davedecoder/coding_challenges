{
 "cells": [
  {
   "cell_type": "code",
   "execution_count": 35,
   "metadata": {},
   "outputs": [],
   "source": [
    "from typing import List\n",
    "\n",
    "\n",
    "class Solution:\n",
    "    def findPeakElement(self, arr: List[int]) -> int:\n",
    "        l, r = 0, len(arr) - 1\n",
    "        while l < r:  # or l <= r\n",
    "            mid = l + (r-l) // 2\n",
    "            if arr[mid] > arr[mid+1]:\n",
    "                r = mid\n",
    "            else:\n",
    "                l = mid + 1\n",
    "        return l"
   ]
  },
  {
   "cell_type": "code",
   "execution_count": 36,
   "metadata": {},
   "outputs": [
    {
     "name": "stdout",
     "output_type": "stream",
     "text": [
      "1\n"
     ]
    }
   ],
   "source": [
    "s = Solution()\n",
    "a = [5,7,6,5,4,8,6]\n",
    "peak = [1]\n",
    "res = s.findPeakElement(a)\n",
    "print(res)\n",
    "assert res in peak"
   ]
  },
  {
   "cell_type": "code",
   "execution_count": 37,
   "metadata": {},
   "outputs": [
    {
     "name": "stdout",
     "output_type": "stream",
     "text": [
      "5\n"
     ]
    }
   ],
   "source": [
    "s = Solution()\n",
    "a = [1,2,1,3,5,6,4]\n",
    "peak = [5]\n",
    "res = s.findPeakElement(a)\n",
    "print(res)\n",
    "assert res in peak"
   ]
  },
  {
   "cell_type": "code",
   "execution_count": null,
   "metadata": {},
   "outputs": [],
   "source": []
  }
 ],
 "metadata": {
  "kernelspec": {
   "display_name": "Python 3",
   "language": "python",
   "name": "python3"
  },
  "language_info": {
   "codemirror_mode": {
    "name": "ipython",
    "version": 3
   },
   "file_extension": ".py",
   "mimetype": "text/x-python",
   "name": "python",
   "nbconvert_exporter": "python",
   "pygments_lexer": "ipython3",
   "version": "3.9.1"
  }
 },
 "nbformat": 4,
 "nbformat_minor": 4
}
