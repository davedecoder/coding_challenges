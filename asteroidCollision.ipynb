{
 "cells": [
  {
   "cell_type": "code",
   "execution_count": 1,
   "metadata": {},
   "outputs": [],
   "source": [
    "from typing import List"
   ]
  },
  {
   "cell_type": "code",
   "execution_count": 53,
   "metadata": {},
   "outputs": [],
   "source": [
    "class Solution:\n",
    "    \n",
    "    def mergeSort(self, arr: List[int]):\n",
    "        if len(arr) > 1:\n",
    "        \n",
    "            mid = len(arr)//2\n",
    "            L = arr[mid:]\n",
    "            R = arr[:mid]\n",
    "\n",
    "            self.mergeSort(L)\n",
    "            self.mergeSort(R)\n",
    "\n",
    "            i = j = k = 0\n",
    "\n",
    "            while i < len(L) and j < len(R):\n",
    "                if L[i] < R[j]:\n",
    "                    arr[k] = L[i]\n",
    "                    i += 1\n",
    "                else:\n",
    "                    arr[k] = R[j]\n",
    "                    j += 1\n",
    "                k += 1\n",
    "\n",
    "\n",
    "            while i < len(L):\n",
    "                arr[k] = L[i]\n",
    "                i += 1\n",
    "                k += 1\n",
    "\n",
    "            while j < len(R):\n",
    "                arr[k] = R[j]\n",
    "                j += 1\n",
    "                k += 1\n",
    "    \n",
    "    def asteroidCollision(self, arr: List[int]) -> List[int]:\n",
    "        if len(arr) <= 1:\n",
    "            return arr\n",
    "        \n",
    "        mid = len(arr)//2\n",
    "\n",
    "        L = self.asteroidCollision(arr[:mid])\n",
    "        R = self.asteroidCollision(arr[mid:])\n",
    "        \n",
    "\n",
    "        i = len(L) - 1\n",
    "        j = 0\n",
    "        \n",
    "        res = []\n",
    "\n",
    "        while i >= 0 and j < len(R):\n",
    "            if (L[i] > 0) and (R[j] < 0):\n",
    "                \n",
    "                if abs(L[i]) > abs(R[j]):\n",
    "                    j += 1\n",
    "                elif abs(L[i]) < abs(R[j]):\n",
    "                    i -= 1\n",
    "                else:\n",
    "                    j += 1\n",
    "                    i -= 1\n",
    "            else:\n",
    "                res = [L[i]] + res + [R[j]]\n",
    "                j += 1\n",
    "                i -= 1\n",
    "        \n",
    "        res = L[:i+1] + res + R[j:]\n",
    "        \n",
    "            \n",
    "        return res\n",
    "            \n",
    "        "
   ]
  },
  {
   "cell_type": "code",
   "execution_count": 54,
   "metadata": {},
   "outputs": [
    {
     "name": "stdout",
     "output_type": "stream",
     "text": [
      "[-2, -1, 1, 2]\n",
      "good!\n"
     ]
    }
   ],
   "source": [
    "asteroids = [-2,-1,1,2]\n",
    "expected = [-2,-1,1,2]\n",
    "s = Solution()\n",
    "res = s.asteroidCollision(asteroids)\n",
    "print(res)\n",
    "assert res == expected\n",
    "print(\"good!\")"
   ]
  },
  {
   "cell_type": "code",
   "execution_count": 41,
   "metadata": {},
   "outputs": [
    {
     "name": "stdout",
     "output_type": "stream",
     "text": [
      "[2] [-5]\n",
      "[10] [-5]\n",
      "HELLO 10 -5\n",
      "[10]\n",
      "good!\n"
     ]
    }
   ],
   "source": [
    "asteroids = [10,2,-5]\n",
    "expected = [10]\n",
    "s = Solution()\n",
    "res = s.asteroidCollision(asteroids)\n",
    "print(res)\n",
    "assert res == expected\n",
    "print(\"good!\")"
   ]
  },
  {
   "cell_type": "code",
   "execution_count": 42,
   "metadata": {},
   "outputs": [
    {
     "name": "stdout",
     "output_type": "stream",
     "text": [
      "[10] [-5]\n",
      "HELLO 10 -5\n",
      "[5] [10]\n",
      "[5, 10]\n",
      "good!\n"
     ]
    }
   ],
   "source": [
    "asteroids = [5, 10, -5]\n",
    "expected = [5, 10]\n",
    "s = Solution()\n",
    "res = s.asteroidCollision(asteroids)\n",
    "print(res)\n",
    "assert res == expected\n",
    "print(\"good!\")"
   ]
  },
  {
   "cell_type": "code",
   "execution_count": 43,
   "metadata": {},
   "outputs": [
    {
     "name": "stdout",
     "output_type": "stream",
     "text": [
      "[8] [-8]\n",
      "[]\n",
      "good!\n"
     ]
    }
   ],
   "source": [
    "asteroids = [8,-8]\n",
    "expected = []\n",
    "s = Solution()\n",
    "res = s.asteroidCollision(asteroids)\n",
    "print(res)\n",
    "assert res == expected\n",
    "print(\"good!\")"
   ]
  },
  {
   "cell_type": "code",
   "execution_count": null,
   "metadata": {},
   "outputs": [],
   "source": [
    "asteroids = [5, 10, -5]\n",
    "expected = [-5, 5, 10]\n",
    "s = Solution()\n",
    "s.mergeSort(asteroids)\n",
    "print(asteroids)\n",
    "assert asteroids == expected\n",
    "print(\"good!\")\n",
    "\n"
   ]
  },
  {
   "cell_type": "code",
   "execution_count": null,
   "metadata": {},
   "outputs": [],
   "source": [
    "asteroids = [5, 10, -5, -3]\n",
    "expected = [-5, -3, 5, 10]\n",
    "s = Solution()\n",
    "s.mergeSort(asteroids)\n",
    "print(asteroids)\n",
    "assert asteroids == expected\n",
    "print(\"good!\")"
   ]
  },
  {
   "cell_type": "code",
   "execution_count": null,
   "metadata": {},
   "outputs": [],
   "source": [
    "asteroids = [5, 10, -5]\n",
    "expected = [5, 10]\n",
    "s = Solution()\n",
    "res = s.asteroidCollision(asteroids)\n",
    "assert res == expected\n",
    "print(\"good!\")"
   ]
  },
  {
   "cell_type": "code",
   "execution_count": null,
   "metadata": {},
   "outputs": [],
   "source": [
    "def modify_arr(arr):\n",
    "    arr = arr[:1]"
   ]
  },
  {
   "cell_type": "code",
   "execution_count": null,
   "metadata": {},
   "outputs": [],
   "source": [
    "a = [1,2,3,4]\n",
    "modify_arr(a)"
   ]
  },
  {
   "cell_type": "code",
   "execution_count": null,
   "metadata": {},
   "outputs": [],
   "source": [
    "a"
   ]
  },
  {
   "cell_type": "code",
   "execution_count": null,
   "metadata": {},
   "outputs": [],
   "source": []
  }
 ],
 "metadata": {
  "kernelspec": {
   "display_name": "Python 3",
   "language": "python",
   "name": "python3"
  },
  "language_info": {
   "codemirror_mode": {
    "name": "ipython",
    "version": 3
   },
   "file_extension": ".py",
   "mimetype": "text/x-python",
   "name": "python",
   "nbconvert_exporter": "python",
   "pygments_lexer": "ipython3",
   "version": "3.9.1"
  }
 },
 "nbformat": 4,
 "nbformat_minor": 4
}
